{
  "cells": [
    {
      "cell_type": "code",
      "execution_count": null,
      "metadata": {
        "id": "lapVYt-qQkjY"
      },
      "outputs": [],
      "source": [
        "# import statements\n",
        "import os\n",
        "import pandas as pd\n",
        "import numpy as np\n",
        "import matplotlib.pyplot as plt\n",
        "import seaborn as sn\n",
        "import sklearn as sk\n",
        "import itertools\n",
        "import warnings\n",
        "from sklearn import datasets, metrics\n",
        "from sklearn.neighbors import KNeighborsClassifier\n",
        "from sklearn.metrics import roc_curve, roc_auc_score\n",
        "from sklearn.feature_extraction.text import CountVectorizer\n",
        "from sklearn.model_selection import train_test_split, cross_val_score\n",
        "from sklearn.linear_model import LogisticRegressionCV, RidgeClassifierCV"
      ]
    },
    {
      "cell_type": "markdown",
      "metadata": {
        "id": "lhXwbnZHcPRw"
      },
      "source": [
        "# Task 1: Data preprocessing"
      ]
    },
    {
      "cell_type": "markdown",
      "metadata": {
        "id": "4fRineFJc2Iy"
      },
      "source": [
        "## Dataset 1: IMDB Reviews"
      ]
    },
    {
      "cell_type": "markdown",
      "metadata": {
        "id": "dlT0pGmuao8l"
      },
      "source": [
        "Load Data"
      ]
    },
    {
      "cell_type": "code",
      "execution_count": null,
      "metadata": {
        "id": "xHbWEwFhCSDk"
      },
      "outputs": [],
      "source": [
        "%%capture\n",
        "!wget http://ai.stanford.edu/~amaas/data/sentiment/aclImdb_v1.tar.gz\n",
        "!tar xvzf aclImdb_v1.tar.gz"
      ]
    },
    {
      "cell_type": "code",
      "execution_count": null,
      "metadata": {
        "id": "CUIZ0YIaCtVJ"
      },
      "outputs": [],
      "source": [
        "def fetchdata(path):\n",
        "  file_names = os.listdir(path)\n",
        "  file_name_and_text = {}\n",
        "  for file in file_names:\n",
        "    with open(path + file, \"r\") as target_file:\n",
        "         file_name_and_text[file] = target_file.read().lower()\n",
        "  file_data = (pd.DataFrame.from_dict(file_name_and_text, orient='index')\n",
        "             .reset_index().rename(index = str, columns = {'index': 'file_name', 0: 'review'}))\n",
        "  process_file_name(file_data)\n",
        "  return file_data.set_index('index').sort_index()\n",
        "\n",
        "def process_file_name(df):\n",
        "  def process_index(row):\n",
        "    return int(row['file_name'].split('_')[0])\n",
        "    \n",
        "  def process_rating(row):\n",
        "    return int(row['file_name'][:-4].split('_')[1])\n",
        "  \n",
        "  df['index'] = df.apply(lambda row: process_index(row), axis=1)\n",
        "  df['rating'] = df.apply(lambda row: process_rating(row), axis=1)\n",
        "\n",
        "df_train_p = fetchdata('aclImdb/train/pos/')\n",
        "df_train_p['label'] = 1\n",
        "df_train_n = fetchdata('aclImdb/train/neg/')\n",
        "df_train_n['label'] = 0\n",
        "df_test_p = fetchdata('aclImdb/test/pos/')\n",
        "df_test_p['label'] = 1\n",
        "df_test_n = fetchdata('aclImdb/test/neg/')\n",
        "df_test_n['label'] = 0\n",
        "df_train = pd.concat([df_train_p, df_train_n], ignore_index=True)\n",
        "df_test = pd.concat([df_test_p, df_test_n], ignore_index=True)"
      ]
    },
    {
      "cell_type": "code",
      "execution_count": null,
      "metadata": {
        "id": "feRCg0ny8arQ"
      },
      "outputs": [],
      "source": [
        "with open('aclImdb/imdb.vocab') as f:\n",
        "    vocab = f.read().splitlines()\n",
        "df_vocab = pd.DataFrame({'vocab': vocab})"
      ]
    },
    {
      "cell_type": "code",
      "execution_count": null,
      "metadata": {
        "id": "o1C-CZ_wZ7oO"
      },
      "outputs": [],
      "source": [
        "def process_bow(file_name):\n",
        "  with open(file_name) as f:\n",
        "    label = f.read().splitlines()\n",
        "  rate = []\n",
        "  bow = []\n",
        "  for i in label:\n",
        "    if i[1] == ' ':\n",
        "      rate.append(i[0])\n",
        "      bow.append(' '+i[2:]+' ')\n",
        "    else:\n",
        "      rate.append(i[:2])\n",
        "      bow.append(' '+i[3:]+' ')\n",
        "  df_label = pd.DataFrame({'Bow': bow})\n",
        "  df_label['rate'] = rate\n",
        "  return df_label"
      ]
    },
    {
      "cell_type": "code",
      "execution_count": null,
      "metadata": {
        "id": "sJEcTLVmGQ3N"
      },
      "outputs": [],
      "source": [
        "df_train_label = process_bow('aclImdb/train/labeledBow.feat')"
      ]
    },
    {
      "cell_type": "code",
      "execution_count": null,
      "metadata": {
        "id": "4vhw6FrLHmqQ"
      },
      "outputs": [],
      "source": [
        "df_test_label = process_bow('aclImdb/test/labeledBow.feat')"
      ]
    },
    {
      "cell_type": "markdown",
      "metadata": {
        "id": "e_rPY8TQcJoq"
      },
      "source": [
        "Filter out stopwords and rare words"
      ]
    },
    {
      "cell_type": "code",
      "execution_count": null,
      "metadata": {
        "id": "v1CfKztuZGX_",
        "colab": {
          "base_uri": "https://localhost:8080/",
          "height": 424
        },
        "outputId": "aedd9061-bf7c-4710-af82-9679331e8ce9"
      },
      "outputs": [
        {
          "output_type": "execute_result",
          "data": {
            "text/plain": [
              "       train\n",
              "0      24792\n",
              "1      24162\n",
              "2      24173\n",
              "3      23722\n",
              "4      23459\n",
              "...      ...\n",
              "89522      1\n",
              "89523      1\n",
              "89524      1\n",
              "89525      1\n",
              "89526      1\n",
              "\n",
              "[89527 rows x 1 columns]"
            ],
            "text/html": [
              "\n",
              "  <div id=\"df-cbb89c62-bd3c-49a4-b188-184b514e8271\">\n",
              "    <div class=\"colab-df-container\">\n",
              "      <div>\n",
              "<style scoped>\n",
              "    .dataframe tbody tr th:only-of-type {\n",
              "        vertical-align: middle;\n",
              "    }\n",
              "\n",
              "    .dataframe tbody tr th {\n",
              "        vertical-align: top;\n",
              "    }\n",
              "\n",
              "    .dataframe thead th {\n",
              "        text-align: right;\n",
              "    }\n",
              "</style>\n",
              "<table border=\"1\" class=\"dataframe\">\n",
              "  <thead>\n",
              "    <tr style=\"text-align: right;\">\n",
              "      <th></th>\n",
              "      <th>train</th>\n",
              "    </tr>\n",
              "  </thead>\n",
              "  <tbody>\n",
              "    <tr>\n",
              "      <th>0</th>\n",
              "      <td>24792</td>\n",
              "    </tr>\n",
              "    <tr>\n",
              "      <th>1</th>\n",
              "      <td>24162</td>\n",
              "    </tr>\n",
              "    <tr>\n",
              "      <th>2</th>\n",
              "      <td>24173</td>\n",
              "    </tr>\n",
              "    <tr>\n",
              "      <th>3</th>\n",
              "      <td>23722</td>\n",
              "    </tr>\n",
              "    <tr>\n",
              "      <th>4</th>\n",
              "      <td>23459</td>\n",
              "    </tr>\n",
              "    <tr>\n",
              "      <th>...</th>\n",
              "      <td>...</td>\n",
              "    </tr>\n",
              "    <tr>\n",
              "      <th>89522</th>\n",
              "      <td>1</td>\n",
              "    </tr>\n",
              "    <tr>\n",
              "      <th>89523</th>\n",
              "      <td>1</td>\n",
              "    </tr>\n",
              "    <tr>\n",
              "      <th>89524</th>\n",
              "      <td>1</td>\n",
              "    </tr>\n",
              "    <tr>\n",
              "      <th>89525</th>\n",
              "      <td>1</td>\n",
              "    </tr>\n",
              "    <tr>\n",
              "      <th>89526</th>\n",
              "      <td>1</td>\n",
              "    </tr>\n",
              "  </tbody>\n",
              "</table>\n",
              "<p>89527 rows × 1 columns</p>\n",
              "</div>\n",
              "      <button class=\"colab-df-convert\" onclick=\"convertToInteractive('df-cbb89c62-bd3c-49a4-b188-184b514e8271')\"\n",
              "              title=\"Convert this dataframe to an interactive table.\"\n",
              "              style=\"display:none;\">\n",
              "        \n",
              "  <svg xmlns=\"http://www.w3.org/2000/svg\" height=\"24px\"viewBox=\"0 0 24 24\"\n",
              "       width=\"24px\">\n",
              "    <path d=\"M0 0h24v24H0V0z\" fill=\"none\"/>\n",
              "    <path d=\"M18.56 5.44l.94 2.06.94-2.06 2.06-.94-2.06-.94-.94-2.06-.94 2.06-2.06.94zm-11 1L8.5 8.5l.94-2.06 2.06-.94-2.06-.94L8.5 2.5l-.94 2.06-2.06.94zm10 10l.94 2.06.94-2.06 2.06-.94-2.06-.94-.94-2.06-.94 2.06-2.06.94z\"/><path d=\"M17.41 7.96l-1.37-1.37c-.4-.4-.92-.59-1.43-.59-.52 0-1.04.2-1.43.59L10.3 9.45l-7.72 7.72c-.78.78-.78 2.05 0 2.83L4 21.41c.39.39.9.59 1.41.59.51 0 1.02-.2 1.41-.59l7.78-7.78 2.81-2.81c.8-.78.8-2.07 0-2.86zM5.41 20L4 18.59l7.72-7.72 1.47 1.35L5.41 20z\"/>\n",
              "  </svg>\n",
              "      </button>\n",
              "      \n",
              "  <style>\n",
              "    .colab-df-container {\n",
              "      display:flex;\n",
              "      flex-wrap:wrap;\n",
              "      gap: 12px;\n",
              "    }\n",
              "\n",
              "    .colab-df-convert {\n",
              "      background-color: #E8F0FE;\n",
              "      border: none;\n",
              "      border-radius: 50%;\n",
              "      cursor: pointer;\n",
              "      display: none;\n",
              "      fill: #1967D2;\n",
              "      height: 32px;\n",
              "      padding: 0 0 0 0;\n",
              "      width: 32px;\n",
              "    }\n",
              "\n",
              "    .colab-df-convert:hover {\n",
              "      background-color: #E2EBFA;\n",
              "      box-shadow: 0px 1px 2px rgba(60, 64, 67, 0.3), 0px 1px 3px 1px rgba(60, 64, 67, 0.15);\n",
              "      fill: #174EA6;\n",
              "    }\n",
              "\n",
              "    [theme=dark] .colab-df-convert {\n",
              "      background-color: #3B4455;\n",
              "      fill: #D2E3FC;\n",
              "    }\n",
              "\n",
              "    [theme=dark] .colab-df-convert:hover {\n",
              "      background-color: #434B5C;\n",
              "      box-shadow: 0px 1px 3px 1px rgba(0, 0, 0, 0.15);\n",
              "      filter: drop-shadow(0px 1px 2px rgba(0, 0, 0, 0.3));\n",
              "      fill: #FFFFFF;\n",
              "    }\n",
              "  </style>\n",
              "\n",
              "      <script>\n",
              "        const buttonEl =\n",
              "          document.querySelector('#df-cbb89c62-bd3c-49a4-b188-184b514e8271 button.colab-df-convert');\n",
              "        buttonEl.style.display =\n",
              "          google.colab.kernel.accessAllowed ? 'block' : 'none';\n",
              "\n",
              "        async function convertToInteractive(key) {\n",
              "          const element = document.querySelector('#df-cbb89c62-bd3c-49a4-b188-184b514e8271');\n",
              "          const dataTable =\n",
              "            await google.colab.kernel.invokeFunction('convertToInteractive',\n",
              "                                                     [key], {});\n",
              "          if (!dataTable) return;\n",
              "\n",
              "          const docLinkHtml = 'Like what you see? Visit the ' +\n",
              "            '<a target=\"_blank\" href=https://colab.research.google.com/notebooks/data_table.ipynb>data table notebook</a>'\n",
              "            + ' to learn more about interactive tables.';\n",
              "          element.innerHTML = '';\n",
              "          dataTable['output_type'] = 'display_data';\n",
              "          await google.colab.output.renderOutput(dataTable, element);\n",
              "          const docLink = document.createElement('div');\n",
              "          docLink.innerHTML = docLinkHtml;\n",
              "          element.appendChild(docLink);\n",
              "        }\n",
              "      </script>\n",
              "    </div>\n",
              "  </div>\n",
              "  "
            ]
          },
          "metadata": {},
          "execution_count": 57
        }
      ],
      "source": [
        "# count occurrences for training set\n",
        "total_train = {}\n",
        "for index in range(len(df_train_label)):\n",
        "  line =  df_train_label.loc[index,'Bow']\n",
        "  index_pos_list = [ i for i in range(len(line)) if line[i] == ':' ]\n",
        "  list_blank = [ i for i in range(len(line)) if line[i] == ' ' ]\n",
        "  for j in range(len(index_pos_list)):\n",
        "    num = int(line[list_blank[j]+1:index_pos_list[j]])\n",
        "    if num in total_train.keys():\n",
        "      total_train[num] += 1\n",
        "    else:\n",
        "      total_train[num] = 1\n",
        "total_train = dict(sorted(total_train.items()))\n",
        "train_word = pd.DataFrame(total_train.values(), index = total_train.keys(),columns = ['train'])\n",
        "train_word"
      ]
    },
    {
      "cell_type": "code",
      "execution_count": null,
      "metadata": {
        "id": "4NNkqt81aIQ4"
      },
      "outputs": [],
      "source": [
        "# count occurrences for test set\n",
        "total_test = {}\n",
        "for index in range(len(df_test_label)):\n",
        "  line =  df_test_label.loc[index,'Bow']\n",
        "  index_pos_list = [ i for i in range(len(line)) if line[i] == ':' ]\n",
        "  list_blank = [ i for i in range(len(line)) if line[i] == ' ' ]\n",
        "  for j in range(len(index_pos_list)):\n",
        "    num = int(line[list_blank[j]+1:index_pos_list[j]])\n",
        "    if num in total_test.keys():\n",
        "      total_test[num] += 1\n",
        "    else:\n",
        "      total_test[num] = 1\n",
        "total_test = dict(sorted(total_test.items()))\n",
        "test_word = pd.DataFrame(total_test.values(), index = total_test.keys(),columns = ['test'])"
      ]
    },
    {
      "cell_type": "code",
      "execution_count": null,
      "metadata": {
        "id": "iUfa5dy7Ma_V",
        "colab": {
          "base_uri": "https://localhost:8080/",
          "height": 424
        },
        "outputId": "91f5ade7-b74b-4ea9-9725-eff4be795309"
      },
      "outputs": [
        {
          "output_type": "execute_result",
          "data": {
            "text/plain": [
              "            vocab  train     test  train_%\n",
              "21             he  10308  10010.0  0.41232\n",
              "23            his  10677  10460.0  0.42708\n",
              "27              !   8595   8754.0  0.34380\n",
              "30             by  11689  11600.0  0.46756\n",
              "31             an  12203  12088.0  0.48812\n",
              "...           ...    ...      ...      ...\n",
              "1935    continues    252    221.0  0.01008\n",
              "1938        below    254    272.0  0.01016\n",
              "1958        opens    250    225.0  0.01000\n",
              "1967  essentially    250    244.0  0.01000\n",
              "1980     received    250    233.0  0.01000\n",
              "\n",
              "[1744 rows x 4 columns]"
            ],
            "text/html": [
              "\n",
              "  <div id=\"df-57c72ef4-4840-4202-8285-f96f437d78d2\">\n",
              "    <div class=\"colab-df-container\">\n",
              "      <div>\n",
              "<style scoped>\n",
              "    .dataframe tbody tr th:only-of-type {\n",
              "        vertical-align: middle;\n",
              "    }\n",
              "\n",
              "    .dataframe tbody tr th {\n",
              "        vertical-align: top;\n",
              "    }\n",
              "\n",
              "    .dataframe thead th {\n",
              "        text-align: right;\n",
              "    }\n",
              "</style>\n",
              "<table border=\"1\" class=\"dataframe\">\n",
              "  <thead>\n",
              "    <tr style=\"text-align: right;\">\n",
              "      <th></th>\n",
              "      <th>vocab</th>\n",
              "      <th>train</th>\n",
              "      <th>test</th>\n",
              "      <th>train_%</th>\n",
              "    </tr>\n",
              "  </thead>\n",
              "  <tbody>\n",
              "    <tr>\n",
              "      <th>21</th>\n",
              "      <td>he</td>\n",
              "      <td>10308</td>\n",
              "      <td>10010.0</td>\n",
              "      <td>0.41232</td>\n",
              "    </tr>\n",
              "    <tr>\n",
              "      <th>23</th>\n",
              "      <td>his</td>\n",
              "      <td>10677</td>\n",
              "      <td>10460.0</td>\n",
              "      <td>0.42708</td>\n",
              "    </tr>\n",
              "    <tr>\n",
              "      <th>27</th>\n",
              "      <td>!</td>\n",
              "      <td>8595</td>\n",
              "      <td>8754.0</td>\n",
              "      <td>0.34380</td>\n",
              "    </tr>\n",
              "    <tr>\n",
              "      <th>30</th>\n",
              "      <td>by</td>\n",
              "      <td>11689</td>\n",
              "      <td>11600.0</td>\n",
              "      <td>0.46756</td>\n",
              "    </tr>\n",
              "    <tr>\n",
              "      <th>31</th>\n",
              "      <td>an</td>\n",
              "      <td>12203</td>\n",
              "      <td>12088.0</td>\n",
              "      <td>0.48812</td>\n",
              "    </tr>\n",
              "    <tr>\n",
              "      <th>...</th>\n",
              "      <td>...</td>\n",
              "      <td>...</td>\n",
              "      <td>...</td>\n",
              "      <td>...</td>\n",
              "    </tr>\n",
              "    <tr>\n",
              "      <th>1935</th>\n",
              "      <td>continues</td>\n",
              "      <td>252</td>\n",
              "      <td>221.0</td>\n",
              "      <td>0.01008</td>\n",
              "    </tr>\n",
              "    <tr>\n",
              "      <th>1938</th>\n",
              "      <td>below</td>\n",
              "      <td>254</td>\n",
              "      <td>272.0</td>\n",
              "      <td>0.01016</td>\n",
              "    </tr>\n",
              "    <tr>\n",
              "      <th>1958</th>\n",
              "      <td>opens</td>\n",
              "      <td>250</td>\n",
              "      <td>225.0</td>\n",
              "      <td>0.01000</td>\n",
              "    </tr>\n",
              "    <tr>\n",
              "      <th>1967</th>\n",
              "      <td>essentially</td>\n",
              "      <td>250</td>\n",
              "      <td>244.0</td>\n",
              "      <td>0.01000</td>\n",
              "    </tr>\n",
              "    <tr>\n",
              "      <th>1980</th>\n",
              "      <td>received</td>\n",
              "      <td>250</td>\n",
              "      <td>233.0</td>\n",
              "      <td>0.01000</td>\n",
              "    </tr>\n",
              "  </tbody>\n",
              "</table>\n",
              "<p>1744 rows × 4 columns</p>\n",
              "</div>\n",
              "      <button class=\"colab-df-convert\" onclick=\"convertToInteractive('df-57c72ef4-4840-4202-8285-f96f437d78d2')\"\n",
              "              title=\"Convert this dataframe to an interactive table.\"\n",
              "              style=\"display:none;\">\n",
              "        \n",
              "  <svg xmlns=\"http://www.w3.org/2000/svg\" height=\"24px\"viewBox=\"0 0 24 24\"\n",
              "       width=\"24px\">\n",
              "    <path d=\"M0 0h24v24H0V0z\" fill=\"none\"/>\n",
              "    <path d=\"M18.56 5.44l.94 2.06.94-2.06 2.06-.94-2.06-.94-.94-2.06-.94 2.06-2.06.94zm-11 1L8.5 8.5l.94-2.06 2.06-.94-2.06-.94L8.5 2.5l-.94 2.06-2.06.94zm10 10l.94 2.06.94-2.06 2.06-.94-2.06-.94-.94-2.06-.94 2.06-2.06.94z\"/><path d=\"M17.41 7.96l-1.37-1.37c-.4-.4-.92-.59-1.43-.59-.52 0-1.04.2-1.43.59L10.3 9.45l-7.72 7.72c-.78.78-.78 2.05 0 2.83L4 21.41c.39.39.9.59 1.41.59.51 0 1.02-.2 1.41-.59l7.78-7.78 2.81-2.81c.8-.78.8-2.07 0-2.86zM5.41 20L4 18.59l7.72-7.72 1.47 1.35L5.41 20z\"/>\n",
              "  </svg>\n",
              "      </button>\n",
              "      \n",
              "  <style>\n",
              "    .colab-df-container {\n",
              "      display:flex;\n",
              "      flex-wrap:wrap;\n",
              "      gap: 12px;\n",
              "    }\n",
              "\n",
              "    .colab-df-convert {\n",
              "      background-color: #E8F0FE;\n",
              "      border: none;\n",
              "      border-radius: 50%;\n",
              "      cursor: pointer;\n",
              "      display: none;\n",
              "      fill: #1967D2;\n",
              "      height: 32px;\n",
              "      padding: 0 0 0 0;\n",
              "      width: 32px;\n",
              "    }\n",
              "\n",
              "    .colab-df-convert:hover {\n",
              "      background-color: #E2EBFA;\n",
              "      box-shadow: 0px 1px 2px rgba(60, 64, 67, 0.3), 0px 1px 3px 1px rgba(60, 64, 67, 0.15);\n",
              "      fill: #174EA6;\n",
              "    }\n",
              "\n",
              "    [theme=dark] .colab-df-convert {\n",
              "      background-color: #3B4455;\n",
              "      fill: #D2E3FC;\n",
              "    }\n",
              "\n",
              "    [theme=dark] .colab-df-convert:hover {\n",
              "      background-color: #434B5C;\n",
              "      box-shadow: 0px 1px 3px 1px rgba(0, 0, 0, 0.15);\n",
              "      filter: drop-shadow(0px 1px 2px rgba(0, 0, 0, 0.3));\n",
              "      fill: #FFFFFF;\n",
              "    }\n",
              "  </style>\n",
              "\n",
              "      <script>\n",
              "        const buttonEl =\n",
              "          document.querySelector('#df-57c72ef4-4840-4202-8285-f96f437d78d2 button.colab-df-convert');\n",
              "        buttonEl.style.display =\n",
              "          google.colab.kernel.accessAllowed ? 'block' : 'none';\n",
              "\n",
              "        async function convertToInteractive(key) {\n",
              "          const element = document.querySelector('#df-57c72ef4-4840-4202-8285-f96f437d78d2');\n",
              "          const dataTable =\n",
              "            await google.colab.kernel.invokeFunction('convertToInteractive',\n",
              "                                                     [key], {});\n",
              "          if (!dataTable) return;\n",
              "\n",
              "          const docLinkHtml = 'Like what you see? Visit the ' +\n",
              "            '<a target=\"_blank\" href=https://colab.research.google.com/notebooks/data_table.ipynb>data table notebook</a>'\n",
              "            + ' to learn more about interactive tables.';\n",
              "          element.innerHTML = '';\n",
              "          dataTable['output_type'] = 'display_data';\n",
              "          await google.colab.output.renderOutput(dataTable, element);\n",
              "          const docLink = document.createElement('div');\n",
              "          docLink.innerHTML = docLinkHtml;\n",
              "          element.appendChild(docLink);\n",
              "        }\n",
              "      </script>\n",
              "    </div>\n",
              "  </div>\n",
              "  "
            ]
          },
          "metadata": {},
          "execution_count": 59
        }
      ],
      "source": [
        "df_total = pd.concat([df_vocab, train_word, test_word], axis = 1)\n",
        "df_total['train_%'] = df_total['train']/25000\n",
        "df_process = df_total[(0.01<=df_total['train_%'])&(df_total['train_%'] <= 0.5)]\n",
        "df_process"
      ]
    },
    {
      "cell_type": "markdown",
      "metadata": {
        "id": "jDYXYdpz4rj3"
      },
      "source": [
        "Calculate z-score"
      ]
    },
    {
      "cell_type": "code",
      "execution_count": null,
      "metadata": {
        "id": "0RlmoM_u4ujN",
        "colab": {
          "base_uri": "https://localhost:8080/"
        },
        "outputId": "848f160a-3b21-480d-ee69-2554e541cacd"
      },
      "outputs": [
        {
          "output_type": "stream",
          "name": "stdout",
          "text": [
            "X shape: (25000, 1744)\n",
            "y shape (25000,)\n"
          ]
        }
      ],
      "source": [
        "# X (N*D) = (25000*1744): frequency count of each word for each review. Each row is a review.\n",
        "filtered_vocab_indices = list(df_process.index.values)\n",
        "z_score_X = np.zeros((len(df_train), len(df_process)))\n",
        "print(\"X shape:\", z_score_X.shape)\n",
        "\n",
        "for index in range(len(df_train_label)):\n",
        "  freq_count = dict.fromkeys(filtered_vocab_indices, 0) # initialize a dict with each word as key and 0 as value\n",
        "  line =  df_train_label.loc[index,'Bow']\n",
        "  tokens = line.split(\" \")[1:-1]\n",
        "  for token in tokens:\n",
        "    num = int(token.split(\":\")[0])\n",
        "    count = int(token.split(\":\")[1])\n",
        "    if num in freq_count: \n",
        "      freq_count[num] = count # set the count of a word\n",
        "  z_score_X[index] = list(freq_count.values()) # update the word frequency count for this single review\n",
        "\n",
        "# y (N*1) = (25000*1): rate for each review.\n",
        "z_score_y = df_train_label.rate.to_numpy().astype(int)\n",
        "print(\"y shape\", z_score_y.shape)"
      ]
    },
    {
      "cell_type": "code",
      "execution_count": null,
      "metadata": {
        "id": "rIXAuteAEK5o"
      },
      "outputs": [],
      "source": [
        "# standardize X\n",
        "z_score_X_std = np.zeros((len(df_train), len(df_process)))\n",
        "for d in range(z_score_X.shape[1]):\n",
        "  z_score_X_std[:,d] = (z_score_X[:,d] - z_score_X[:,d].mean()) / z_score_X[:,d].std()\n",
        "\n",
        "# standardize y\n",
        "z_score_y_std = (z_score_y - z_score_y.mean()) / z_score_y.std()\n",
        "\n",
        "# z_score (D*1) = (1744*1): z-scores for each word\n",
        "z_score = z_score_X_std.T.dot(z_score_y_std) / (len(df_train))**0.5"
      ]
    },
    {
      "cell_type": "code",
      "execution_count": null,
      "metadata": {
        "id": "KkvMsThxHeAH",
        "colab": {
          "base_uri": "https://localhost:8080/"
        },
        "outputId": "b01dcdfc-d552-42fb-f85e-c770e9411269"
      },
      "outputs": [
        {
          "output_type": "stream",
          "name": "stdout",
          "text": [
            "Top 10 most positive words:\n",
            " 83         great\n",
            "369    wonderful\n",
            "309    excellent\n",
            "115         best\n",
            "114         love\n",
            "459      amazing\n",
            "437        loved\n",
            "392      perfect\n",
            "493     favorite\n",
            "297    beautiful\n",
            "Name: vocab, dtype: object \n",
            "\n",
            "Top 10 most negative words:\n",
            " 77          bad\n",
            "240       worst\n",
            "427       waste\n",
            "368       awful\n",
            "46            ?\n",
            "373    terrible\n",
            "422       worse\n",
            "55           no\n",
            "503    horrible\n",
            "363      stupid\n",
            "Name: vocab, dtype: object \n",
            "\n",
            "Absolutely makes sense!\n"
          ]
        }
      ],
      "source": [
        "# Find the most positive and negative words\n",
        "most_pos_word_indices = np.array(filtered_vocab_indices)[np.argsort(z_score)[::-1]][:10]\n",
        "most_pos_words = df_process.vocab[most_pos_word_indices]\n",
        "print(\"Top 10 most positive words:\\n\", most_pos_words, \"\\n\")\n",
        "\n",
        "most_neg_word_indices = np.array(filtered_vocab_indices)[np.argsort(z_score)][:10]\n",
        "most_neg_words = df_process.vocab[most_neg_word_indices]\n",
        "print(\"Top 10 most negative words:\\n\", most_neg_words, \"\\n\")\n",
        "\n",
        "print(\"Absolutely makes sense!\")"
      ]
    },
    {
      "cell_type": "code",
      "execution_count": null,
      "metadata": {
        "id": "8K5Pc8oFtzTU"
      },
      "outputs": [],
      "source": [
        "most_pos_zcore = np.sort(z_score)[::-1][:10]\n",
        "most_neg_zcore = np.sort(z_score)[:10]\n",
        "dic = {'Z_score':list(np.append(most_pos_zcore, most_neg_zcore)), 'Word':list(np.append(most_pos_words, most_neg_words))}\n",
        "top_20 = np.append(most_pos_words, most_neg_words)\n",
        "score = np.append(most_pos_zcore, most_neg_zcore)\n",
        "data = pd.DataFrame(dic)"
      ]
    },
    {
      "cell_type": "code",
      "execution_count": null,
      "metadata": {
        "id": "YKpNbxwmrtJ5",
        "colab": {
          "base_uri": "https://localhost:8080/",
          "height": 387
        },
        "outputId": "f634cea2-554d-47f5-c9fe-f5142ac95552"
      },
      "outputs": [
        {
          "output_type": "execute_result",
          "data": {
            "text/plain": [
              "<seaborn.axisgrid.FacetGrid at 0x7f226fa75750>"
            ]
          },
          "metadata": {},
          "execution_count": 66
        },
        {
          "output_type": "display_data",
          "data": {
            "text/plain": [
              "<Figure size 360x360 with 1 Axes>"
            ],
            "image/png": "[encoded data removed]"
          },
          "metadata": {
            "needs_background": "light"
          }
        }
      ],
      "source": [
        "sn.catplot(x = 'Z_score',y = 'Word', kind = 'bar',data = data)"
      ]
    },
    {
      "cell_type": "code",
      "execution_count": null,
      "metadata": {
        "id": "uS4Ezg4vMFuw",
        "colab": {
          "base_uri": "https://localhost:8080/"
        },
        "outputId": "f542429d-e47c-4f67-fdcb-dfd927fc259e"
      },
      "outputs": [
        {
          "output_type": "execute_result",
          "data": {
            "text/plain": [
              "0             bad\n",
              "1           worst\n",
              "2           waste\n",
              "3           great\n",
              "4           awful\n",
              "          ...    \n",
              "145           job\n",
              "146       awesome\n",
              "147        strong\n",
              "148    definitely\n",
              "149    incredible\n",
              "Name: vocab, Length: 150, dtype: object"
            ]
          },
          "metadata": {},
          "execution_count": 67
        }
      ],
      "source": [
        "# Choose top D features based on z-score\n",
        "D_value = 150\n",
        "most_imp_word_indices = np.argsort(np.abs(z_score))[::-1][:D_value]\n",
        "most_imp_word_original_indices = np.array(filtered_vocab_indices)[most_imp_word_indices]\n",
        "most_imp_words = df_process.vocab[most_imp_word_original_indices].reset_index(drop=True)\n",
        "most_imp_words"
      ]
    },
    {
      "cell_type": "markdown",
      "metadata": {
        "id": "db8J2FFreKqF"
      },
      "source": [
        "Process Training Set"
      ]
    },
    {
      "cell_type": "code",
      "execution_count": null,
      "metadata": {
        "id": "umRHcXfzrTIs"
      },
      "outputs": [],
      "source": [
        "# We only keep the most important features in X\n",
        "X1_train_raw = z_score_X[:,most_imp_word_indices]\n",
        "\n",
        "# y is the 0/1 labels\n",
        "y1_train_raw = df_train.label"
      ]
    },
    {
      "cell_type": "markdown",
      "metadata": {
        "id": "fLXmWwBN6nuA"
      },
      "source": [
        "Process Test Set"
      ]
    },
    {
      "cell_type": "code",
      "execution_count": null,
      "metadata": {
        "id": "poguapfe6tR3"
      },
      "outputs": [],
      "source": [
        "# We only keep the most important features in X\n",
        "X1_test = np.zeros((len(df_test), D_value))\n",
        "\n",
        "for index in range(len(df_test_label)):\n",
        "  freq_count = dict.fromkeys(most_imp_word_original_indices, 0) # initialize a dict with each word as key and 0 as value\n",
        "  line =  df_test_label.loc[index,'Bow']\n",
        "  tokens = line.split(\" \")[1:-1]\n",
        "  for token in tokens:\n",
        "    num = int(token.split(\":\")[0])\n",
        "    count = int(token.split(\":\")[1])\n",
        "    if num in freq_count:\n",
        "      freq_count[num] = count # set the count of a word\n",
        "  X1_test[index] = list(freq_count.values())\n",
        "\n",
        "# y is the 0/1 labels\n",
        "y1_test = df_test.label"
      ]
    },
    {
      "cell_type": "markdown",
      "metadata": {
        "id": "v6rIH5bCdBdQ"
      },
      "source": [
        "## Dataset 2: 20 news groups"
      ]
    },
    {
      "cell_type": "markdown",
      "source": [
        "Load data"
      ],
      "metadata": {
        "id": "JNVCSgDDVnzl"
      }
    },
    {
      "cell_type": "code",
      "execution_count": null,
      "metadata": {
        "id": "BV1dvK7UiI4v"
      },
      "outputs": [],
      "source": [
        "categories = ['comp.graphics', 'rec.sport.hockey', 'sci.med', 'soc.religion.christian']\n",
        "train = datasets.fetch_20newsgroups(subset='train',categories=categories, remove=(['headers','footers','quotes']))\n",
        "test = datasets.fetch_20newsgroups(subset='test',categories=categories, remove=(['headers','footers','quotes']))"
      ]
    },
    {
      "cell_type": "code",
      "execution_count": null,
      "metadata": {
        "colab": {
          "base_uri": "https://localhost:8080/"
        },
        "id": "oWlxs7isSJGa",
        "outputId": "9023a5b9-edba-4486-d9a5-b58302803a6c"
      },
      "outputs": [
        {
          "output_type": "stream",
          "name": "stdout",
          "text": [
            "      0  1  2  3\n",
            "0     0  0  1  0\n",
            "1     0  0  0  1\n",
            "2     1  0  0  0\n",
            "3     0  0  1  0\n",
            "4     1  0  0  0\n",
            "...  .. .. .. ..\n",
            "2372  1  0  0  0\n",
            "2373  0  1  0  0\n",
            "2374  0  0  1  0\n",
            "2375  0  1  0  0\n",
            "2376  0  0  0  1\n",
            "\n",
            "[2377 rows x 4 columns]\n"
          ]
        }
      ],
      "source": [
        "target_train = train.target\n",
        "target_test = test.target\n",
        "\n",
        "def one_hot_encoding(target):\n",
        "  df_target = pd.DataFrame(index = range(len(target)),columns = [0, 1, 2, 3])\n",
        "  for i in range(len(target)):\n",
        "    if target[i] == 0:\n",
        "      df_target.loc[i,0] = 1\n",
        "      df_target.loc[i,1] = 0\n",
        "      df_target.loc[i,2] = 0\n",
        "      df_target.loc[i,3] = 0\n",
        "    elif target[i] == 1:\n",
        "      df_target.loc[i,0] = 0\n",
        "      df_target.loc[i,1] = 1\n",
        "      df_target.loc[i,2] = 0\n",
        "      df_target.loc[i,3] = 0\n",
        "    elif target[i] == 2:\n",
        "      df_target.loc[i,0] = 0\n",
        "      df_target.loc[i,1] = 0\n",
        "      df_target.loc[i,2] = 1\n",
        "      df_target.loc[i,3] = 0\n",
        "    else:\n",
        "      df_target.loc[i,0] = 0\n",
        "      df_target.loc[i,1] = 0\n",
        "      df_target.loc[i,2] = 0\n",
        "      df_target.loc[i,3] = 1\n",
        "  return df_target\n",
        "\n",
        "df_target_train = one_hot_encoding(target_train)\n",
        "df_target_test = one_hot_encoding(target_test)\n",
        "print(df_target_train)"
      ]
    },
    {
      "cell_type": "code",
      "execution_count": null,
      "metadata": {
        "id": "Flvj5lXZwF12"
      },
      "outputs": [],
      "source": [
        "count_vect = CountVectorizer().fit(train.data)\n",
        "X_train_counts = count_vect.transform(train.data)\n",
        "X_test_counts = count_vect.transform(test.data)"
      ]
    },
    {
      "cell_type": "markdown",
      "source": [
        "Filter out rare words and stopwords"
      ],
      "metadata": {
        "id": "c3JUIm2JVrLy"
      }
    },
    {
      "cell_type": "code",
      "execution_count": null,
      "metadata": {
        "id": "cUfSp7YTpWzv"
      },
      "outputs": [],
      "source": [
        "total_counts = np.count_nonzero(X_train_counts.toarray(), axis=0)\n",
        "df = pd.DataFrame(total_counts, columns = ['frequency'])\n",
        "df['percent'] = df.frequency/X_train_counts.shape[0]"
      ]
    },
    {
      "cell_type": "code",
      "execution_count": null,
      "metadata": {
        "id": "9XnVOCAONPD_",
        "colab": {
          "base_uri": "https://localhost:8080/",
          "height": 424
        },
        "outputId": "c3fe405e-c473-49ee-994d-b28544dbfd52"
      },
      "outputs": [
        {
          "output_type": "execute_result",
          "data": {
            "text/plain": [
              "       frequency   percent\n",
              "15472          1  0.000421\n",
              "17342          1  0.000421\n",
              "17341          1  0.000421\n",
              "17340          1  0.000421\n",
              "17338          1  0.000421\n",
              "...          ...       ...\n",
              "14773       1606  0.675642\n",
              "20027       1731  0.728229\n",
              "3616        1738  0.731174\n",
              "28066       1857  0.781237\n",
              "27746       2037  0.856963\n",
              "\n",
              "[30945 rows x 2 columns]"
            ],
            "text/html": [
              "\n",
              "  <div id=\"df-6ab3f432-ed8d-4317-9f19-8639c385f56f\">\n",
              "    <div class=\"colab-df-container\">\n",
              "      <div>\n",
              "<style scoped>\n",
              "    .dataframe tbody tr th:only-of-type {\n",
              "        vertical-align: middle;\n",
              "    }\n",
              "\n",
              "    .dataframe tbody tr th {\n",
              "        vertical-align: top;\n",
              "    }\n",
              "\n",
              "    .dataframe thead th {\n",
              "        text-align: right;\n",
              "    }\n",
              "</style>\n",
              "<table border=\"1\" class=\"dataframe\">\n",
              "  <thead>\n",
              "    <tr style=\"text-align: right;\">\n",
              "      <th></th>\n",
              "      <th>frequency</th>\n",
              "      <th>percent</th>\n",
              "    </tr>\n",
              "  </thead>\n",
              "  <tbody>\n",
              "    <tr>\n",
              "      <th>15472</th>\n",
              "      <td>1</td>\n",
              "      <td>0.000421</td>\n",
              "    </tr>\n",
              "    <tr>\n",
              "      <th>17342</th>\n",
              "      <td>1</td>\n",
              "      <td>0.000421</td>\n",
              "    </tr>\n",
              "    <tr>\n",
              "      <th>17341</th>\n",
              "      <td>1</td>\n",
              "      <td>0.000421</td>\n",
              "    </tr>\n",
              "    <tr>\n",
              "      <th>17340</th>\n",
              "      <td>1</td>\n",
              "      <td>0.000421</td>\n",
              "    </tr>\n",
              "    <tr>\n",
              "      <th>17338</th>\n",
              "      <td>1</td>\n",
              "      <td>0.000421</td>\n",
              "    </tr>\n",
              "    <tr>\n",
              "      <th>...</th>\n",
              "      <td>...</td>\n",
              "      <td>...</td>\n",
              "    </tr>\n",
              "    <tr>\n",
              "      <th>14773</th>\n",
              "      <td>1606</td>\n",
              "      <td>0.675642</td>\n",
              "    </tr>\n",
              "    <tr>\n",
              "      <th>20027</th>\n",
              "      <td>1731</td>\n",
              "      <td>0.728229</td>\n",
              "    </tr>\n",
              "    <tr>\n",
              "      <th>3616</th>\n",
              "      <td>1738</td>\n",
              "      <td>0.731174</td>\n",
              "    </tr>\n",
              "    <tr>\n",
              "      <th>28066</th>\n",
              "      <td>1857</td>\n",
              "      <td>0.781237</td>\n",
              "    </tr>\n",
              "    <tr>\n",
              "      <th>27746</th>\n",
              "      <td>2037</td>\n",
              "      <td>0.856963</td>\n",
              "    </tr>\n",
              "  </tbody>\n",
              "</table>\n",
              "<p>30945 rows × 2 columns</p>\n",
              "</div>\n",
              "      <button class=\"colab-df-convert\" onclick=\"convertToInteractive('df-6ab3f432-ed8d-4317-9f19-8639c385f56f')\"\n",
              "              title=\"Convert this dataframe to an interactive table.\"\n",
              "              style=\"display:none;\">\n",
              "        \n",
              "  <svg xmlns=\"http://www.w3.org/2000/svg\" height=\"24px\"viewBox=\"0 0 24 24\"\n",
              "       width=\"24px\">\n",
              "    <path d=\"M0 0h24v24H0V0z\" fill=\"none\"/>\n",
              "    <path d=\"M18.56 5.44l.94 2.06.94-2.06 2.06-.94-2.06-.94-.94-2.06-.94 2.06-2.06.94zm-11 1L8.5 8.5l.94-2.06 2.06-.94-2.06-.94L8.5 2.5l-.94 2.06-2.06.94zm10 10l.94 2.06.94-2.06 2.06-.94-2.06-.94-.94-2.06-.94 2.06-2.06.94z\"/><path d=\"M17.41 7.96l-1.37-1.37c-.4-.4-.92-.59-1.43-.59-.52 0-1.04.2-1.43.59L10.3 9.45l-7.72 7.72c-.78.78-.78 2.05 0 2.83L4 21.41c.39.39.9.59 1.41.59.51 0 1.02-.2 1.41-.59l7.78-7.78 2.81-2.81c.8-.78.8-2.07 0-2.86zM5.41 20L4 18.59l7.72-7.72 1.47 1.35L5.41 20z\"/>\n",
              "  </svg>\n",
              "      </button>\n",
              "      \n",
              "  <style>\n",
              "    .colab-df-container {\n",
              "      display:flex;\n",
              "      flex-wrap:wrap;\n",
              "      gap: 12px;\n",
              "    }\n",
              "\n",
              "    .colab-df-convert {\n",
              "      background-color: #E8F0FE;\n",
              "      border: none;\n",
              "      border-radius: 50%;\n",
              "      cursor: pointer;\n",
              "      display: none;\n",
              "      fill: #1967D2;\n",
              "      height: 32px;\n",
              "      padding: 0 0 0 0;\n",
              "      width: 32px;\n",
              "    }\n",
              "\n",
              "    .colab-df-convert:hover {\n",
              "      background-color: #E2EBFA;\n",
              "      box-shadow: 0px 1px 2px rgba(60, 64, 67, 0.3), 0px 1px 3px 1px rgba(60, 64, 67, 0.15);\n",
              "      fill: #174EA6;\n",
              "    }\n",
              "\n",
              "    [theme=dark] .colab-df-convert {\n",
              "      background-color: #3B4455;\n",
              "      fill: #D2E3FC;\n",
              "    }\n",
              "\n",
              "    [theme=dark] .colab-df-convert:hover {\n",
              "      background-color: #434B5C;\n",
              "      box-shadow: 0px 1px 3px 1px rgba(0, 0, 0, 0.15);\n",
              "      filter: drop-shadow(0px 1px 2px rgba(0, 0, 0, 0.3));\n",
              "      fill: #FFFFFF;\n",
              "    }\n",
              "  </style>\n",
              "\n",
              "      <script>\n",
              "        const buttonEl =\n",
              "          document.querySelector('#df-6ab3f432-ed8d-4317-9f19-8639c385f56f button.colab-df-convert');\n",
              "        buttonEl.style.display =\n",
              "          google.colab.kernel.accessAllowed ? 'block' : 'none';\n",
              "\n",
              "        async function convertToInteractive(key) {\n",
              "          const element = document.querySelector('#df-6ab3f432-ed8d-4317-9f19-8639c385f56f');\n",
              "          const dataTable =\n",
              "            await google.colab.kernel.invokeFunction('convertToInteractive',\n",
              "                                                     [key], {});\n",
              "          if (!dataTable) return;\n",
              "\n",
              "          const docLinkHtml = 'Like what you see? Visit the ' +\n",
              "            '<a target=\"_blank\" href=https://colab.research.google.com/notebooks/data_table.ipynb>data table notebook</a>'\n",
              "            + ' to learn more about interactive tables.';\n",
              "          element.innerHTML = '';\n",
              "          dataTable['output_type'] = 'display_data';\n",
              "          await google.colab.output.renderOutput(dataTable, element);\n",
              "          const docLink = document.createElement('div');\n",
              "          docLink.innerHTML = docLinkHtml;\n",
              "          element.appendChild(docLink);\n",
              "        }\n",
              "      </script>\n",
              "    </div>\n",
              "  </div>\n",
              "  "
            ]
          },
          "metadata": {},
          "execution_count": 74
        }
      ],
      "source": [
        "df.sort_values('frequency')"
      ]
    },
    {
      "cell_type": "code",
      "execution_count": null,
      "metadata": {
        "id": "FMXDnCWGVD7X",
        "colab": {
          "base_uri": "https://localhost:8080/",
          "height": 424
        },
        "outputId": "43f9801f-31a6-44c1-9803-8b01b106cefc"
      },
      "outputs": [
        {
          "output_type": "execute_result",
          "data": {
            "text/plain": [
              "       frequency   percent\n",
              "0             48  0.020194\n",
              "1             36  0.015145\n",
              "133          151  0.063525\n",
              "134           62  0.026083\n",
              "271          107  0.045015\n",
              "...          ...       ...\n",
              "30820       1028  0.432478\n",
              "30822         53  0.022297\n",
              "30828        478  0.201094\n",
              "30831         26  0.010938\n",
              "30832         55  0.023138\n",
              "\n",
              "[1586 rows x 2 columns]"
            ],
            "text/html": [
              "\n",
              "  <div id=\"df-abfc5ff8-9948-4009-b7c1-b319a8a9bf11\">\n",
              "    <div class=\"colab-df-container\">\n",
              "      <div>\n",
              "<style scoped>\n",
              "    .dataframe tbody tr th:only-of-type {\n",
              "        vertical-align: middle;\n",
              "    }\n",
              "\n",
              "    .dataframe tbody tr th {\n",
              "        vertical-align: top;\n",
              "    }\n",
              "\n",
              "    .dataframe thead th {\n",
              "        text-align: right;\n",
              "    }\n",
              "</style>\n",
              "<table border=\"1\" class=\"dataframe\">\n",
              "  <thead>\n",
              "    <tr style=\"text-align: right;\">\n",
              "      <th></th>\n",
              "      <th>frequency</th>\n",
              "      <th>percent</th>\n",
              "    </tr>\n",
              "  </thead>\n",
              "  <tbody>\n",
              "    <tr>\n",
              "      <th>0</th>\n",
              "      <td>48</td>\n",
              "      <td>0.020194</td>\n",
              "    </tr>\n",
              "    <tr>\n",
              "      <th>1</th>\n",
              "      <td>36</td>\n",
              "      <td>0.015145</td>\n",
              "    </tr>\n",
              "    <tr>\n",
              "      <th>133</th>\n",
              "      <td>151</td>\n",
              "      <td>0.063525</td>\n",
              "    </tr>\n",
              "    <tr>\n",
              "      <th>134</th>\n",
              "      <td>62</td>\n",
              "      <td>0.026083</td>\n",
              "    </tr>\n",
              "    <tr>\n",
              "      <th>271</th>\n",
              "      <td>107</td>\n",
              "      <td>0.045015</td>\n",
              "    </tr>\n",
              "    <tr>\n",
              "      <th>...</th>\n",
              "      <td>...</td>\n",
              "      <td>...</td>\n",
              "    </tr>\n",
              "    <tr>\n",
              "      <th>30820</th>\n",
              "      <td>1028</td>\n",
              "      <td>0.432478</td>\n",
              "    </tr>\n",
              "    <tr>\n",
              "      <th>30822</th>\n",
              "      <td>53</td>\n",
              "      <td>0.022297</td>\n",
              "    </tr>\n",
              "    <tr>\n",
              "      <th>30828</th>\n",
              "      <td>478</td>\n",
              "      <td>0.201094</td>\n",
              "    </tr>\n",
              "    <tr>\n",
              "      <th>30831</th>\n",
              "      <td>26</td>\n",
              "      <td>0.010938</td>\n",
              "    </tr>\n",
              "    <tr>\n",
              "      <th>30832</th>\n",
              "      <td>55</td>\n",
              "      <td>0.023138</td>\n",
              "    </tr>\n",
              "  </tbody>\n",
              "</table>\n",
              "<p>1586 rows × 2 columns</p>\n",
              "</div>\n",
              "      <button class=\"colab-df-convert\" onclick=\"convertToInteractive('df-abfc5ff8-9948-4009-b7c1-b319a8a9bf11')\"\n",
              "              title=\"Convert this dataframe to an interactive table.\"\n",
              "              style=\"display:none;\">\n",
              "        \n",
              "  <svg xmlns=\"http://www.w3.org/2000/svg\" height=\"24px\"viewBox=\"0 0 24 24\"\n",
              "       width=\"24px\">\n",
              "    <path d=\"M0 0h24v24H0V0z\" fill=\"none\"/>\n",
              "    <path d=\"M18.56 5.44l.94 2.06.94-2.06 2.06-.94-2.06-.94-.94-2.06-.94 2.06-2.06.94zm-11 1L8.5 8.5l.94-2.06 2.06-.94-2.06-.94L8.5 2.5l-.94 2.06-2.06.94zm10 10l.94 2.06.94-2.06 2.06-.94-2.06-.94-.94-2.06-.94 2.06-2.06.94z\"/><path d=\"M17.41 7.96l-1.37-1.37c-.4-.4-.92-.59-1.43-.59-.52 0-1.04.2-1.43.59L10.3 9.45l-7.72 7.72c-.78.78-.78 2.05 0 2.83L4 21.41c.39.39.9.59 1.41.59.51 0 1.02-.2 1.41-.59l7.78-7.78 2.81-2.81c.8-.78.8-2.07 0-2.86zM5.41 20L4 18.59l7.72-7.72 1.47 1.35L5.41 20z\"/>\n",
              "  </svg>\n",
              "      </button>\n",
              "      \n",
              "  <style>\n",
              "    .colab-df-container {\n",
              "      display:flex;\n",
              "      flex-wrap:wrap;\n",
              "      gap: 12px;\n",
              "    }\n",
              "\n",
              "    .colab-df-convert {\n",
              "      background-color: #E8F0FE;\n",
              "      border: none;\n",
              "      border-radius: 50%;\n",
              "      cursor: pointer;\n",
              "      display: none;\n",
              "      fill: #1967D2;\n",
              "      height: 32px;\n",
              "      padding: 0 0 0 0;\n",
              "      width: 32px;\n",
              "    }\n",
              "\n",
              "    .colab-df-convert:hover {\n",
              "      background-color: #E2EBFA;\n",
              "      box-shadow: 0px 1px 2px rgba(60, 64, 67, 0.3), 0px 1px 3px 1px rgba(60, 64, 67, 0.15);\n",
              "      fill: #174EA6;\n",
              "    }\n",
              "\n",
              "    [theme=dark] .colab-df-convert {\n",
              "      background-color: #3B4455;\n",
              "      fill: #D2E3FC;\n",
              "    }\n",
              "\n",
              "    [theme=dark] .colab-df-convert:hover {\n",
              "      background-color: #434B5C;\n",
              "      box-shadow: 0px 1px 3px 1px rgba(0, 0, 0, 0.15);\n",
              "      filter: drop-shadow(0px 1px 2px rgba(0, 0, 0, 0.3));\n",
              "      fill: #FFFFFF;\n",
              "    }\n",
              "  </style>\n",
              "\n",
              "      <script>\n",
              "        const buttonEl =\n",
              "          document.querySelector('#df-abfc5ff8-9948-4009-b7c1-b319a8a9bf11 button.colab-df-convert');\n",
              "        buttonEl.style.display =\n",
              "          google.colab.kernel.accessAllowed ? 'block' : 'none';\n",
              "\n",
              "        async function convertToInteractive(key) {\n",
              "          const element = document.querySelector('#df-abfc5ff8-9948-4009-b7c1-b319a8a9bf11');\n",
              "          const dataTable =\n",
              "            await google.colab.kernel.invokeFunction('convertToInteractive',\n",
              "                                                     [key], {});\n",
              "          if (!dataTable) return;\n",
              "\n",
              "          const docLinkHtml = 'Like what you see? Visit the ' +\n",
              "            '<a target=\"_blank\" href=https://colab.research.google.com/notebooks/data_table.ipynb>data table notebook</a>'\n",
              "            + ' to learn more about interactive tables.';\n",
              "          element.innerHTML = '';\n",
              "          dataTable['output_type'] = 'display_data';\n",
              "          await google.colab.output.renderOutput(dataTable, element);\n",
              "          const docLink = document.createElement('div');\n",
              "          docLink.innerHTML = docLinkHtml;\n",
              "          element.appendChild(docLink);\n",
              "        }\n",
              "      </script>\n",
              "    </div>\n",
              "  </div>\n",
              "  "
            ]
          },
          "metadata": {},
          "execution_count": 75
        }
      ],
      "source": [
        "df = df[(df['percent'] <= 0.5) & (df['percent'] >= 0.01)]\n",
        "df"
      ]
    },
    {
      "cell_type": "markdown",
      "source": [
        "Calculate Mutual Information"
      ],
      "metadata": {
        "id": "VWuz_ocsVt2j"
      }
    },
    {
      "cell_type": "code",
      "execution_count": null,
      "metadata": {
        "id": "ss_GjljiFG2g"
      },
      "outputs": [],
      "source": [
        "filter_out_ind = list(df.index.values)\n",
        "MI_x = X_train_counts[:,filter_out_ind].toarray()"
      ]
    },
    {
      "cell_type": "code",
      "execution_count": null,
      "metadata": {
        "id": "v2F1zVNTo1c4"
      },
      "outputs": [],
      "source": [
        "MI_x_std = np.zeros((MI_x.shape[0], len(filter_out_ind)))\n",
        "for d in range(MI_x.shape[1]):\n",
        "  MI_x_std[:,d] = (MI_x[:,d] - MI_x[:,d].mean())/MI_x[:,d].std()"
      ]
    },
    {
      "cell_type": "code",
      "execution_count": null,
      "metadata": {
        "id": "fDZt7_FzbbQu",
        "colab": {
          "base_uri": "https://localhost:8080/",
          "height": 424
        },
        "outputId": "ab96126f-ae91-434c-a3b0-fba03900d435"
      },
      "outputs": [
        {
          "output_type": "execute_result",
          "data": {
            "text/plain": [
              "             0         1         2         3\n",
              "0     0.002133  0.005345  0.003038  0.002733\n",
              "1     0.001453  0.002367  0.002388  0.001916\n",
              "2     0.005320  0.013609  0.005454  0.003288\n",
              "3     0.003083  0.003137  0.002206  0.002246\n",
              "4     0.002709  0.011882  0.006512  0.004705\n",
              "...        ...       ...       ...       ...\n",
              "1581  0.014360  0.011140  0.009210  0.034381\n",
              "1582  0.004811  0.002790  0.001591  0.002294\n",
              "1583  0.010640  0.010181  0.004506  0.018184\n",
              "1584  0.000759  0.000896  0.000527  0.003262\n",
              "1585  0.001927  0.002008  0.001427  0.008089\n",
              "\n",
              "[1586 rows x 4 columns]"
            ],
            "text/html": [
              "\n",
              "  <div id=\"df-3fd5221b-063d-4a7c-8bc5-62e1c48b8c8f\">\n",
              "    <div class=\"colab-df-container\">\n",
              "      <div>\n",
              "<style scoped>\n",
              "    .dataframe tbody tr th:only-of-type {\n",
              "        vertical-align: middle;\n",
              "    }\n",
              "\n",
              "    .dataframe tbody tr th {\n",
              "        vertical-align: top;\n",
              "    }\n",
              "\n",
              "    .dataframe thead th {\n",
              "        text-align: right;\n",
              "    }\n",
              "</style>\n",
              "<table border=\"1\" class=\"dataframe\">\n",
              "  <thead>\n",
              "    <tr style=\"text-align: right;\">\n",
              "      <th></th>\n",
              "      <th>0</th>\n",
              "      <th>1</th>\n",
              "      <th>2</th>\n",
              "      <th>3</th>\n",
              "    </tr>\n",
              "  </thead>\n",
              "  <tbody>\n",
              "    <tr>\n",
              "      <th>0</th>\n",
              "      <td>0.002133</td>\n",
              "      <td>0.005345</td>\n",
              "      <td>0.003038</td>\n",
              "      <td>0.002733</td>\n",
              "    </tr>\n",
              "    <tr>\n",
              "      <th>1</th>\n",
              "      <td>0.001453</td>\n",
              "      <td>0.002367</td>\n",
              "      <td>0.002388</td>\n",
              "      <td>0.001916</td>\n",
              "    </tr>\n",
              "    <tr>\n",
              "      <th>2</th>\n",
              "      <td>0.005320</td>\n",
              "      <td>0.013609</td>\n",
              "      <td>0.005454</td>\n",
              "      <td>0.003288</td>\n",
              "    </tr>\n",
              "    <tr>\n",
              "      <th>3</th>\n",
              "      <td>0.003083</td>\n",
              "      <td>0.003137</td>\n",
              "      <td>0.002206</td>\n",
              "      <td>0.002246</td>\n",
              "    </tr>\n",
              "    <tr>\n",
              "      <th>4</th>\n",
              "      <td>0.002709</td>\n",
              "      <td>0.011882</td>\n",
              "      <td>0.006512</td>\n",
              "      <td>0.004705</td>\n",
              "    </tr>\n",
              "    <tr>\n",
              "      <th>...</th>\n",
              "      <td>...</td>\n",
              "      <td>...</td>\n",
              "      <td>...</td>\n",
              "      <td>...</td>\n",
              "    </tr>\n",
              "    <tr>\n",
              "      <th>1581</th>\n",
              "      <td>0.014360</td>\n",
              "      <td>0.011140</td>\n",
              "      <td>0.009210</td>\n",
              "      <td>0.034381</td>\n",
              "    </tr>\n",
              "    <tr>\n",
              "      <th>1582</th>\n",
              "      <td>0.004811</td>\n",
              "      <td>0.002790</td>\n",
              "      <td>0.001591</td>\n",
              "      <td>0.002294</td>\n",
              "    </tr>\n",
              "    <tr>\n",
              "      <th>1583</th>\n",
              "      <td>0.010640</td>\n",
              "      <td>0.010181</td>\n",
              "      <td>0.004506</td>\n",
              "      <td>0.018184</td>\n",
              "    </tr>\n",
              "    <tr>\n",
              "      <th>1584</th>\n",
              "      <td>0.000759</td>\n",
              "      <td>0.000896</td>\n",
              "      <td>0.000527</td>\n",
              "      <td>0.003262</td>\n",
              "    </tr>\n",
              "    <tr>\n",
              "      <th>1585</th>\n",
              "      <td>0.001927</td>\n",
              "      <td>0.002008</td>\n",
              "      <td>0.001427</td>\n",
              "      <td>0.008089</td>\n",
              "    </tr>\n",
              "  </tbody>\n",
              "</table>\n",
              "<p>1586 rows × 4 columns</p>\n",
              "</div>\n",
              "      <button class=\"colab-df-convert\" onclick=\"convertToInteractive('df-3fd5221b-063d-4a7c-8bc5-62e1c48b8c8f')\"\n",
              "              title=\"Convert this dataframe to an interactive table.\"\n",
              "              style=\"display:none;\">\n",
              "        \n",
              "  <svg xmlns=\"http://www.w3.org/2000/svg\" height=\"24px\"viewBox=\"0 0 24 24\"\n",
              "       width=\"24px\">\n",
              "    <path d=\"M0 0h24v24H0V0z\" fill=\"none\"/>\n",
              "    <path d=\"M18.56 5.44l.94 2.06.94-2.06 2.06-.94-2.06-.94-.94-2.06-.94 2.06-2.06.94zm-11 1L8.5 8.5l.94-2.06 2.06-.94-2.06-.94L8.5 2.5l-.94 2.06-2.06.94zm10 10l.94 2.06.94-2.06 2.06-.94-2.06-.94-.94-2.06-.94 2.06-2.06.94z\"/><path d=\"M17.41 7.96l-1.37-1.37c-.4-.4-.92-.59-1.43-.59-.52 0-1.04.2-1.43.59L10.3 9.45l-7.72 7.72c-.78.78-.78 2.05 0 2.83L4 21.41c.39.39.9.59 1.41.59.51 0 1.02-.2 1.41-.59l7.78-7.78 2.81-2.81c.8-.78.8-2.07 0-2.86zM5.41 20L4 18.59l7.72-7.72 1.47 1.35L5.41 20z\"/>\n",
              "  </svg>\n",
              "      </button>\n",
              "      \n",
              "  <style>\n",
              "    .colab-df-container {\n",
              "      display:flex;\n",
              "      flex-wrap:wrap;\n",
              "      gap: 12px;\n",
              "    }\n",
              "\n",
              "    .colab-df-convert {\n",
              "      background-color: #E8F0FE;\n",
              "      border: none;\n",
              "      border-radius: 50%;\n",
              "      cursor: pointer;\n",
              "      display: none;\n",
              "      fill: #1967D2;\n",
              "      height: 32px;\n",
              "      padding: 0 0 0 0;\n",
              "      width: 32px;\n",
              "    }\n",
              "\n",
              "    .colab-df-convert:hover {\n",
              "      background-color: #E2EBFA;\n",
              "      box-shadow: 0px 1px 2px rgba(60, 64, 67, 0.3), 0px 1px 3px 1px rgba(60, 64, 67, 0.15);\n",
              "      fill: #174EA6;\n",
              "    }\n",
              "\n",
              "    [theme=dark] .colab-df-convert {\n",
              "      background-color: #3B4455;\n",
              "      fill: #D2E3FC;\n",
              "    }\n",
              "\n",
              "    [theme=dark] .colab-df-convert:hover {\n",
              "      background-color: #434B5C;\n",
              "      box-shadow: 0px 1px 3px 1px rgba(0, 0, 0, 0.15);\n",
              "      filter: drop-shadow(0px 1px 2px rgba(0, 0, 0, 0.3));\n",
              "      fill: #FFFFFF;\n",
              "    }\n",
              "  </style>\n",
              "\n",
              "      <script>\n",
              "        const buttonEl =\n",
              "          document.querySelector('#df-3fd5221b-063d-4a7c-8bc5-62e1c48b8c8f button.colab-df-convert');\n",
              "        buttonEl.style.display =\n",
              "          google.colab.kernel.accessAllowed ? 'block' : 'none';\n",
              "\n",
              "        async function convertToInteractive(key) {\n",
              "          const element = document.querySelector('#df-3fd5221b-063d-4a7c-8bc5-62e1c48b8c8f');\n",
              "          const dataTable =\n",
              "            await google.colab.kernel.invokeFunction('convertToInteractive',\n",
              "                                                     [key], {});\n",
              "          if (!dataTable) return;\n",
              "\n",
              "          const docLinkHtml = 'Like what you see? Visit the ' +\n",
              "            '<a target=\"_blank\" href=https://colab.research.google.com/notebooks/data_table.ipynb>data table notebook</a>'\n",
              "            + ' to learn more about interactive tables.';\n",
              "          element.innerHTML = '';\n",
              "          dataTable['output_type'] = 'display_data';\n",
              "          await google.colab.output.renderOutput(dataTable, element);\n",
              "          const docLink = document.createElement('div');\n",
              "          docLink.innerHTML = docLinkHtml;\n",
              "          element.appendChild(docLink);\n",
              "        }\n",
              "      </script>\n",
              "    </div>\n",
              "  </div>\n",
              "  "
            ]
          },
          "metadata": {},
          "execution_count": 80
        }
      ],
      "source": [
        "warnings.filterwarnings(\"ignore\")\n",
        "dic = {}\n",
        "i = 0\n",
        "while i < 4:\n",
        "  score = []\n",
        "  for j in range(MI_x_std.shape[1]):\n",
        "    M = metrics.mutual_info_score(MI_x_std[:,j], np.asarray(df_target_train[i]))\n",
        "    score.append(M)\n",
        "  dic[i] = score\n",
        "  i += 1\n",
        "df_MI = pd.DataFrame(dic)\n",
        "df_MI"
      ]
    },
    {
      "cell_type": "code",
      "execution_count": null,
      "metadata": {
        "id": "YMyQFAPRVoxG"
      },
      "outputs": [],
      "source": [
        "y0 = df_MI.sort_values(0, ascending = False)\n",
        "word_y0 = list(y0.index.values)[:100]\n",
        "y1 = df_MI.sort_values(1, ascending = False)\n",
        "word_y1 = list(y1.index.values)[:100]\n",
        "y2 = df_MI.sort_values(2, ascending = False)\n",
        "word_y2 = list(y2.index.values)[:100]\n",
        "y3 = df_MI.sort_values(3, ascending = False)\n",
        "word_y3 = list(y3.index.values)[:100]\n",
        "\n",
        "feature = sorted(word_y0+word_y1+word_y2+word_y3)\n",
        "feature_final = np.unique(np.array(feature))"
      ]
    },
    {
      "cell_type": "markdown",
      "source": [
        "Top features based on Mutual Information"
      ],
      "metadata": {
        "id": "TmlJBGVqWVD_"
      }
    },
    {
      "cell_type": "code",
      "execution_count": null,
      "metadata": {
        "id": "G2vLqkUIqPPr",
        "colab": {
          "base_uri": "https://localhost:8080/",
          "height": 677
        },
        "outputId": "b899ba7e-81c0-41c7-9503-e3ff2744528b"
      },
      "outputs": [
        {
          "output_type": "execute_result",
          "data": {
            "text/plain": [
              "   comp.graphics rec.sport.hockey     sci.med soc.religion.christian\n",
              "0       graphics             team       banks                    god\n",
              "1             he             game      gordon                  jesus\n",
              "2            who           hockey         geb                 christ\n",
              "3          files           season    chastity                  bible\n",
              "4           file              nhl       n3jxp             christians\n",
              "5            his             play         dsl                 church\n",
              "6          image          players    shameful              christian\n",
              "7             3d            games       cadre                     we\n",
              "8            god           league   intellect                    not\n",
              "9        program            teams   surrender                  faith\n",
              "10           was         playoffs  skepticism           christianity\n",
              "11      software          rangers        pitt                    who\n",
              "12          they           player     disease                    our\n",
              "13        people              win         god                     as\n",
              "14           not          playoff    patients                 people\n",
              "15           ftp              god      doctor                believe\n",
              "16           him            leafs    medicine               religion\n",
              "17          code          detroit     medical                    his\n",
              "18       windows              cup        soon                    are\n",
              "19            as              ice   treatment                   this"
            ],
            "text/html": [
              "\n",
              "  <div id=\"df-9ea46d60-440e-4dd8-8656-60a75b30f187\">\n",
              "    <div class=\"colab-df-container\">\n",
              "      <div>\n",
              "<style scoped>\n",
              "    .dataframe tbody tr th:only-of-type {\n",
              "        vertical-align: middle;\n",
              "    }\n",
              "\n",
              "    .dataframe tbody tr th {\n",
              "        vertical-align: top;\n",
              "    }\n",
              "\n",
              "    .dataframe thead th {\n",
              "        text-align: right;\n",
              "    }\n",
              "</style>\n",
              "<table border=\"1\" class=\"dataframe\">\n",
              "  <thead>\n",
              "    <tr style=\"text-align: right;\">\n",
              "      <th></th>\n",
              "      <th>comp.graphics</th>\n",
              "      <th>rec.sport.hockey</th>\n",
              "      <th>sci.med</th>\n",
              "      <th>soc.religion.christian</th>\n",
              "    </tr>\n",
              "  </thead>\n",
              "  <tbody>\n",
              "    <tr>\n",
              "      <th>0</th>\n",
              "      <td>graphics</td>\n",
              "      <td>team</td>\n",
              "      <td>banks</td>\n",
              "      <td>god</td>\n",
              "    </tr>\n",
              "    <tr>\n",
              "      <th>1</th>\n",
              "      <td>he</td>\n",
              "      <td>game</td>\n",
              "      <td>gordon</td>\n",
              "      <td>jesus</td>\n",
              "    </tr>\n",
              "    <tr>\n",
              "      <th>2</th>\n",
              "      <td>who</td>\n",
              "      <td>hockey</td>\n",
              "      <td>geb</td>\n",
              "      <td>christ</td>\n",
              "    </tr>\n",
              "    <tr>\n",
              "      <th>3</th>\n",
              "      <td>files</td>\n",
              "      <td>season</td>\n",
              "      <td>chastity</td>\n",
              "      <td>bible</td>\n",
              "    </tr>\n",
              "    <tr>\n",
              "      <th>4</th>\n",
              "      <td>file</td>\n",
              "      <td>nhl</td>\n",
              "      <td>n3jxp</td>\n",
              "      <td>christians</td>\n",
              "    </tr>\n",
              "    <tr>\n",
              "      <th>5</th>\n",
              "      <td>his</td>\n",
              "      <td>play</td>\n",
              "      <td>dsl</td>\n",
              "      <td>church</td>\n",
              "    </tr>\n",
              "    <tr>\n",
              "      <th>6</th>\n",
              "      <td>image</td>\n",
              "      <td>players</td>\n",
              "      <td>shameful</td>\n",
              "      <td>christian</td>\n",
              "    </tr>\n",
              "    <tr>\n",
              "      <th>7</th>\n",
              "      <td>3d</td>\n",
              "      <td>games</td>\n",
              "      <td>cadre</td>\n",
              "      <td>we</td>\n",
              "    </tr>\n",
              "    <tr>\n",
              "      <th>8</th>\n",
              "      <td>god</td>\n",
              "      <td>league</td>\n",
              "      <td>intellect</td>\n",
              "      <td>not</td>\n",
              "    </tr>\n",
              "    <tr>\n",
              "      <th>9</th>\n",
              "      <td>program</td>\n",
              "      <td>teams</td>\n",
              "      <td>surrender</td>\n",
              "      <td>faith</td>\n",
              "    </tr>\n",
              "    <tr>\n",
              "      <th>10</th>\n",
              "      <td>was</td>\n",
              "      <td>playoffs</td>\n",
              "      <td>skepticism</td>\n",
              "      <td>christianity</td>\n",
              "    </tr>\n",
              "    <tr>\n",
              "      <th>11</th>\n",
              "      <td>software</td>\n",
              "      <td>rangers</td>\n",
              "      <td>pitt</td>\n",
              "      <td>who</td>\n",
              "    </tr>\n",
              "    <tr>\n",
              "      <th>12</th>\n",
              "      <td>they</td>\n",
              "      <td>player</td>\n",
              "      <td>disease</td>\n",
              "      <td>our</td>\n",
              "    </tr>\n",
              "    <tr>\n",
              "      <th>13</th>\n",
              "      <td>people</td>\n",
              "      <td>win</td>\n",
              "      <td>god</td>\n",
              "      <td>as</td>\n",
              "    </tr>\n",
              "    <tr>\n",
              "      <th>14</th>\n",
              "      <td>not</td>\n",
              "      <td>playoff</td>\n",
              "      <td>patients</td>\n",
              "      <td>people</td>\n",
              "    </tr>\n",
              "    <tr>\n",
              "      <th>15</th>\n",
              "      <td>ftp</td>\n",
              "      <td>god</td>\n",
              "      <td>doctor</td>\n",
              "      <td>believe</td>\n",
              "    </tr>\n",
              "    <tr>\n",
              "      <th>16</th>\n",
              "      <td>him</td>\n",
              "      <td>leafs</td>\n",
              "      <td>medicine</td>\n",
              "      <td>religion</td>\n",
              "    </tr>\n",
              "    <tr>\n",
              "      <th>17</th>\n",
              "      <td>code</td>\n",
              "      <td>detroit</td>\n",
              "      <td>medical</td>\n",
              "      <td>his</td>\n",
              "    </tr>\n",
              "    <tr>\n",
              "      <th>18</th>\n",
              "      <td>windows</td>\n",
              "      <td>cup</td>\n",
              "      <td>soon</td>\n",
              "      <td>are</td>\n",
              "    </tr>\n",
              "    <tr>\n",
              "      <th>19</th>\n",
              "      <td>as</td>\n",
              "      <td>ice</td>\n",
              "      <td>treatment</td>\n",
              "      <td>this</td>\n",
              "    </tr>\n",
              "  </tbody>\n",
              "</table>\n",
              "</div>\n",
              "      <button class=\"colab-df-convert\" onclick=\"convertToInteractive('df-9ea46d60-440e-4dd8-8656-60a75b30f187')\"\n",
              "              title=\"Convert this dataframe to an interactive table.\"\n",
              "              style=\"display:none;\">\n",
              "        \n",
              "  <svg xmlns=\"http://www.w3.org/2000/svg\" height=\"24px\"viewBox=\"0 0 24 24\"\n",
              "       width=\"24px\">\n",
              "    <path d=\"M0 0h24v24H0V0z\" fill=\"none\"/>\n",
              "    <path d=\"M18.56 5.44l.94 2.06.94-2.06 2.06-.94-2.06-.94-.94-2.06-.94 2.06-2.06.94zm-11 1L8.5 8.5l.94-2.06 2.06-.94-2.06-.94L8.5 2.5l-.94 2.06-2.06.94zm10 10l.94 2.06.94-2.06 2.06-.94-2.06-.94-.94-2.06-.94 2.06-2.06.94z\"/><path d=\"M17.41 7.96l-1.37-1.37c-.4-.4-.92-.59-1.43-.59-.52 0-1.04.2-1.43.59L10.3 9.45l-7.72 7.72c-.78.78-.78 2.05 0 2.83L4 21.41c.39.39.9.59 1.41.59.51 0 1.02-.2 1.41-.59l7.78-7.78 2.81-2.81c.8-.78.8-2.07 0-2.86zM5.41 20L4 18.59l7.72-7.72 1.47 1.35L5.41 20z\"/>\n",
              "  </svg>\n",
              "      </button>\n",
              "      \n",
              "  <style>\n",
              "    .colab-df-container {\n",
              "      display:flex;\n",
              "      flex-wrap:wrap;\n",
              "      gap: 12px;\n",
              "    }\n",
              "\n",
              "    .colab-df-convert {\n",
              "      background-color: #E8F0FE;\n",
              "      border: none;\n",
              "      border-radius: 50%;\n",
              "      cursor: pointer;\n",
              "      display: none;\n",
              "      fill: #1967D2;\n",
              "      height: 32px;\n",
              "      padding: 0 0 0 0;\n",
              "      width: 32px;\n",
              "    }\n",
              "\n",
              "    .colab-df-convert:hover {\n",
              "      background-color: #E2EBFA;\n",
              "      box-shadow: 0px 1px 2px rgba(60, 64, 67, 0.3), 0px 1px 3px 1px rgba(60, 64, 67, 0.15);\n",
              "      fill: #174EA6;\n",
              "    }\n",
              "\n",
              "    [theme=dark] .colab-df-convert {\n",
              "      background-color: #3B4455;\n",
              "      fill: #D2E3FC;\n",
              "    }\n",
              "\n",
              "    [theme=dark] .colab-df-convert:hover {\n",
              "      background-color: #434B5C;\n",
              "      box-shadow: 0px 1px 3px 1px rgba(0, 0, 0, 0.15);\n",
              "      filter: drop-shadow(0px 1px 2px rgba(0, 0, 0, 0.3));\n",
              "      fill: #FFFFFF;\n",
              "    }\n",
              "  </style>\n",
              "\n",
              "      <script>\n",
              "        const buttonEl =\n",
              "          document.querySelector('#df-9ea46d60-440e-4dd8-8656-60a75b30f187 button.colab-df-convert');\n",
              "        buttonEl.style.display =\n",
              "          google.colab.kernel.accessAllowed ? 'block' : 'none';\n",
              "\n",
              "        async function convertToInteractive(key) {\n",
              "          const element = document.querySelector('#df-9ea46d60-440e-4dd8-8656-60a75b30f187');\n",
              "          const dataTable =\n",
              "            await google.colab.kernel.invokeFunction('convertToInteractive',\n",
              "                                                     [key], {});\n",
              "          if (!dataTable) return;\n",
              "\n",
              "          const docLinkHtml = 'Like what you see? Visit the ' +\n",
              "            '<a target=\"_blank\" href=https://colab.research.google.com/notebooks/data_table.ipynb>data table notebook</a>'\n",
              "            + ' to learn more about interactive tables.';\n",
              "          element.innerHTML = '';\n",
              "          dataTable['output_type'] = 'display_data';\n",
              "          await google.colab.output.renderOutput(dataTable, element);\n",
              "          const docLink = document.createElement('div');\n",
              "          docLink.innerHTML = docLinkHtml;\n",
              "          element.appendChild(docLink);\n",
              "        }\n",
              "      </script>\n",
              "    </div>\n",
              "  </div>\n",
              "  "
            ]
          },
          "metadata": {},
          "execution_count": 83
        }
      ],
      "source": [
        "names_ = count_vect.get_feature_names()\n",
        "group = {0:word_y0,1:word_y1,2:word_y2,3:word_y3}\n",
        "feature = {}\n",
        "for i in range(4):\n",
        "  top_word = []\n",
        "  g = group[i]\n",
        "  for j in range(20):\n",
        "    w = names_[np.array(filter_out_ind)[g[j]]]\n",
        "    top_word.append(w)\n",
        "  feature[categories[i]]=top_word\n",
        "feature = pd.DataFrame(feature)\n",
        "feature"
      ]
    },
    {
      "cell_type": "markdown",
      "metadata": {
        "id": "KK6bprfkQzYj"
      },
      "source": [
        "Process training set"
      ]
    },
    {
      "cell_type": "code",
      "execution_count": null,
      "metadata": {
        "id": "BGa3jZyrJx_M",
        "colab": {
          "base_uri": "https://localhost:8080/"
        },
        "outputId": "12c5eb2e-f1ba-49d3-f749-a2d529c15305"
      },
      "outputs": [
        {
          "output_type": "stream",
          "name": "stdout",
          "text": [
            "X dimension: (2377, 297)\n",
            "y dimension: (2377, 4)\n"
          ]
        }
      ],
      "source": [
        "final_kept_indices = np.array(filter_out_ind)[feature_final]\n",
        "X2_train_raw = X_train_counts.toarray()[:,final_kept_indices]\n",
        "print(f\"X dimension: {X2_train_raw.shape}\")\n",
        "\n",
        "y2_train_raw = df_target_train.to_numpy()\n",
        "print(f\"y dimension: {y2_train_raw.shape}\")"
      ]
    },
    {
      "cell_type": "markdown",
      "metadata": {
        "id": "BUR8weNhQ3-U"
      },
      "source": [
        "Process test set"
      ]
    },
    {
      "cell_type": "code",
      "execution_count": null,
      "metadata": {
        "id": "xZxLCJpVMtf3",
        "colab": {
          "base_uri": "https://localhost:8080/"
        },
        "outputId": "25136559-fd94-4205-8b8e-7ce9a674860f"
      },
      "outputs": [
        {
          "output_type": "stream",
          "name": "stdout",
          "text": [
            "X dimension: (1582, 297)\n",
            "y dimension: (1582, 4)\n"
          ]
        }
      ],
      "source": [
        "X2_test = X_test_counts.toarray()[:,final_kept_indices]\n",
        "print(f\"X dimension: {X2_test.shape}\")\n",
        "\n",
        "y2_test = df_target_test.to_numpy()\n",
        "print(f\"y dimension: {y2_test.shape}\")"
      ]
    },
    {
      "cell_type": "markdown",
      "metadata": {
        "id": "SV4F-uVQcS2k"
      },
      "source": [
        "# Task 2: Implement Logistic and Multiclass classifiers"
      ]
    },
    {
      "cell_type": "markdown",
      "metadata": {
        "id": "8_y-brcpgiG_"
      },
      "source": [
        "## Logistic Regression"
      ]
    },
    {
      "cell_type": "code",
      "execution_count": null,
      "metadata": {
        "id": "PxnNK0vag-Au"
      },
      "outputs": [],
      "source": [
        "logistic = lambda z: 1/ (1 + np.exp(-z))       #logistic function\n",
        "\n",
        "class LogisticRegression:\n",
        "    \n",
        "    def __init__(self, add_bias=True, learning_rate=.1, epsilon=1e-4, max_iters=1e5, verbose=False):\n",
        "        self.add_bias = add_bias\n",
        "        self.learning_rate = learning_rate\n",
        "        self.epsilon = epsilon                        #to get the tolerance for the norm of gradients \n",
        "        self.max_iters = max_iters                    #maximum number of iteration of gradient descent\n",
        "        self.verbose = verbose\n",
        "        self.ce_all = []\n",
        "\n",
        "    def ce(self, x, y):\n",
        "        a = np.dot(x, self.w)\n",
        "        return np.mean(y * np.log1p(np.exp(-a)) + (1-y) * np.log1p(np.exp(a)))\n",
        "\n",
        "    def gradient(self, x, y):\n",
        "        N,D = x.shape\n",
        "        yh = logistic(np.dot(x, self.w))    # predictions  size N\n",
        "        grad = np.dot(x.T, yh - y)/N        # divide by N because cost is mean over N points\n",
        "        return grad\n",
        "        \n",
        "    def fit(self, x, y):\n",
        "        if x.ndim == 1:\n",
        "            x = x[:, None]\n",
        "        if self.add_bias:\n",
        "            N = x.shape[0]\n",
        "            x = np.column_stack([x,np.ones(N)])\n",
        "        N,D = x.shape\n",
        "        self.w = np.zeros(D)\n",
        "        g = np.inf \n",
        "        t = 0\n",
        "        while np.linalg.norm(g) > self.epsilon and t < self.max_iters:\n",
        "            self.ce_all.append(self.ce(x, y)) # cross-entropy\n",
        "            g = self.gradient(x, y)\n",
        "            self.w = self.w - self.learning_rate * g \n",
        "            t += 1\n",
        "        \n",
        "        if self.verbose:\n",
        "            print(f'terminated after {t} iterations, with norm of the gradient equal to {np.linalg.norm(g)}')\n",
        "            print(f'the weight found: {self.w}')\n",
        "        return self\n",
        "    \n",
        "    def predict(self, x):\n",
        "        if x.ndim == 1:\n",
        "            x = x[:, None]\n",
        "        Nt = x.shape[0]\n",
        "        if self.add_bias:\n",
        "            x = np.column_stack([x,np.ones(Nt)])\n",
        "        yh = logistic(np.dot(x,self.w))            #predict output\n",
        "        return yh\n",
        "        \n",
        "    def check_grad(self, x, y):\n",
        "        N, D = x.shape\n",
        "\n",
        "        w = np.random.randn(D,1)\n",
        "        w0 = w\n",
        "\n",
        "        epsilon = np.random.rand() * 1e-4\n",
        "\n",
        "        w1 = w0 + epsilon\n",
        "        w2 = w0 - epsilon\n",
        "        a1 = np.matmul(x, w1)\n",
        "        a2 = np.matmul(x, w2)\n",
        "\n",
        "        ce1 = np.matmul(y, np.log1p(np.exp(-a1))) + np.matmul((1-y), np.log1p(np.exp(a1)))\n",
        "        ce2 = np.matmul(y, np.log1p(np.exp(-a2))) + np.matmul((1-y), np.log1p(np.exp(a2)))\n",
        "        dw_num = (ce1 - ce2)/(2*epsilon) # approximated gradient\n",
        "\n",
        "        x_row = x.sum(axis = 1)\n",
        "        yh = logistic(np.matmul(x, w))    # predictions  size N\n",
        "        grad = np.dot(x_row, (yh.transpose()[0] - y))\n",
        "        dw_cal = grad\n",
        "        print(np.sum(np.square(dw_cal - dw_num)/np.square(dw_cal + dw_num)))"
      ]
    },
    {
      "cell_type": "markdown",
      "metadata": {
        "id": "FbcmocijgoP2"
      },
      "source": [
        "## Multiclass Classification"
      ]
    },
    {
      "cell_type": "code",
      "execution_count": null,
      "metadata": {
        "id": "W7bK-Rn7gqau"
      },
      "outputs": [],
      "source": [
        "\n",
        "class Multinomial_logistic:\n",
        "    def __init__(self, nFeatures, nClasses):\n",
        "        self.W = np.random.rand(nFeatures, nClasses)\n",
        "        self.epsilon = 1e-4\n",
        "\n",
        "    def predict(self, X):\n",
        "        y_pred = np.exp(np.matmul(X, self.W))\n",
        "        return y_pred / y_pred.sum(axis=1).reshape(X.shape[0], 1)\n",
        "\n",
        "    def grad(self, X, y):\n",
        "        return np.matmul(X.transpose(), self.predict(X) - y)\n",
        "\n",
        "    def ce(self, X, y):\n",
        "        return -np.sum(y * np.log(self.predict(X)))\n",
        "\n",
        "    def fit(self, X, y, X_valid=None, y_valid=None, lr=0.0025, max_iters=1000):\n",
        "        losses_train = np.zeros(max_iters)\n",
        "        losses_valid = np.zeros(max_iters)\n",
        "        g = np.inf\n",
        "        t = 0\n",
        "        while np.linalg.norm(g) > self.epsilon and t < max_iters:\n",
        "            g = self.grad(X, y)\n",
        "            self.W = self.W - lr * g\n",
        "            loss_train = self.ce(X, y)\n",
        "            losses_train[t] = loss_train\n",
        "            if X_valid is not None and y_valid is not None:\n",
        "                loss_valid = self.ce(X_valid, y_valid)\n",
        "                losses_valid[t] = loss_valid\n",
        "            t += 1\n",
        "        return losses_train, losses_valid\n",
        "\n",
        "    def check_grad(self, X, y):\n",
        "        N, C = y.shape\n",
        "        D = X.shape[1]\n",
        "\n",
        "        diff = np.zeros((D, C))\n",
        "\n",
        "        W = self.W.copy()\n",
        "\n",
        "        for i in range(D):\n",
        "            for j in range(C):\n",
        "                epsilon = np.zeros((D, C))\n",
        "                epsilon[i, j] = np.random.rand() * 1e-4\n",
        "\n",
        "                self.W = self.W + epsilon\n",
        "                J1 = self.ce(X, y)\n",
        "                self.W = W\n",
        "\n",
        "                self.W = self.W - epsilon\n",
        "                J2 = self.ce(X, y)\n",
        "                self.W = W\n",
        "\n",
        "                numeric_grad = (J1 - J2) / (2 * epsilon[i, j])\n",
        "                derived_grad = self.grad(X, y)[i, j]\n",
        "\n",
        "                diff[i, j] = np.square(derived_grad - numeric_grad).sum() / \\\n",
        "                             np.square(derived_grad + numeric_grad).sum()\n",
        "\n",
        "        return diff.sum()"
      ]
    },
    {
      "cell_type": "markdown",
      "metadata": {
        "id": "-T0VdyBZgbFI"
      },
      "source": [
        "## Evaluate Model Accuracy"
      ]
    },
    {
      "cell_type": "markdown",
      "source": [
        "For Logistic Regression"
      ],
      "metadata": {
        "id": "WGLZz-eeWqaZ"
      }
    },
    {
      "cell_type": "code",
      "execution_count": null,
      "metadata": {
        "id": "0Zqgc0SPcW0X"
      },
      "outputs": [],
      "source": [
        "def evaluate_acc(y_test_pred, y_test):\n",
        "  return np.sum(y_test_pred == y_test) / y_test.shape[0]"
      ]
    },
    {
      "cell_type": "markdown",
      "source": [
        "For Multiclass Classification"
      ],
      "metadata": {
        "id": "wJaYEQXzWs57"
      }
    },
    {
      "cell_type": "code",
      "execution_count": null,
      "metadata": {
        "id": "L10ZzHhwxo6N"
      },
      "outputs": [],
      "source": [
        "def evaluate(y, y_pred):\n",
        "  accuracy = (y_pred.argmax(axis=1) == y.argmax(axis=1)).sum()\n",
        "  accuracy = accuracy / y.shape[0]\n",
        "  return accuracy"
      ]
    },
    {
      "cell_type": "markdown",
      "metadata": {
        "id": "wRKoVjwXRYMu"
      },
      "source": [
        "# Task 3: Run experiments"
      ]
    },
    {
      "cell_type": "markdown",
      "metadata": {
        "id": "xmHWaP48RYMu"
      },
      "source": [
        "## Dataset 1: IMDB Reviews"
      ]
    },
    {
      "cell_type": "markdown",
      "metadata": {
        "id": "SRRWGc5qgo9Q"
      },
      "source": [
        "1. Learning rate hyperparameter tuning - We chose α=0.1 based on accuracy"
      ]
    },
    {
      "cell_type": "code",
      "execution_count": null,
      "metadata": {
        "id": "fgRAfjlh-Ehg"
      },
      "outputs": [],
      "source": [
        "X1_train, X1_val, y1_train, y1_val = train_test_split(X1_train_raw, y1_train_raw, test_size=0.3, shuffle=True, random_state=42)"
      ]
    },
    {
      "cell_type": "code",
      "execution_count": null,
      "metadata": {
        "id": "IC_cH4TJ_Wb-"
      },
      "outputs": [],
      "source": [
        "logistic_model_0_05 = LogisticRegression(verbose=False, add_bias=False, max_iters=10000, learning_rate=0.05).fit(X1_train, y1_train)"
      ]
    },
    {
      "cell_type": "code",
      "execution_count": null,
      "metadata": {
        "id": "8zjZY6KzRYMv"
      },
      "outputs": [],
      "source": [
        "logistic_model_0_1 = LogisticRegression(verbose=False, add_bias=False, max_iters=10000, learning_rate=0.1).fit(X1_train, y1_train)"
      ]
    },
    {
      "cell_type": "code",
      "execution_count": null,
      "metadata": {
        "id": "RXv7Oy1MCX5D"
      },
      "outputs": [],
      "source": [
        "logistic_model_0_25 = LogisticRegression(verbose=False, add_bias=False, max_iters=10000, learning_rate=0.25).fit(X1_train, y1_train)"
      ]
    },
    {
      "cell_type": "code",
      "execution_count": null,
      "metadata": {
        "id": "qlSc3cU9-oeH"
      },
      "outputs": [],
      "source": [
        "logistic_model_0_5 = LogisticRegression(verbose=False, add_bias=False, max_iters=10000, learning_rate=0.5).fit(X1_train, y1_train)"
      ]
    },
    {
      "cell_type": "code",
      "execution_count": null,
      "metadata": {
        "id": "DFqL6GJ-RYMv",
        "colab": {
          "base_uri": "https://localhost:8080/"
        },
        "outputId": "91598545-cf13-4023-8846-682d07221a12"
      },
      "outputs": [
        {
          "output_type": "stream",
          "name": "stdout",
          "text": [
            "Accuracy on the validation set\n",
            "--Learning rate: 0.05, Accuracy: 0.8374666666666667\n",
            "--Learning rate: 0.1, Accuracy: 0.84\n",
            "--Learning rate: 0.25, Accuracy: 0.8390666666666666\n",
            "--Learning rate: 0.5, Accuracy: 0.8394666666666667\n",
            "\n",
            "Training set accuracy with learning rate 0.1: 0.8433142857142857\n",
            "Test set accuracy with learning rate 0.1: 0.84124\n",
            "No overfitting detected.\n"
          ]
        }
      ],
      "source": [
        "print(\"Accuracy on the validation set\")\n",
        "for logistic_model in [logistic_model_0_05, logistic_model_0_1, logistic_model_0_25, logistic_model_0_5]:\n",
        "  y1_val_pred = logistic_model.predict(X1_val)\n",
        "  y1_val_pred = (y1_val_pred > 0.5).astype(int)\n",
        "  print(f\"--Learning rate: {logistic_model.learning_rate}, Accuracy: {evaluate_acc(y1_val_pred, y1_val)}\")\n",
        "\n",
        "y1_test_pred = logistic_model_0_1.predict(X1_test)\n",
        "y1_test_pred = (y1_test_pred > 0.5).astype(int)\n",
        "y1_train_pred = logistic_model_0_1.predict(X1_train)\n",
        "y1_train_pred = (y1_train_pred > 0.5).astype(int)\n",
        "\n",
        "print(f\"\\nTraining set accuracy with learning rate 0.1: {evaluate_acc(y1_train_pred, y1_train)}\")\n",
        "print(f\"Test set accuracy with learning rate 0.1: {evaluate_acc(y1_test_pred, y1_test)}\")\n",
        "print(\"No overfitting detected.\")"
      ]
    },
    {
      "cell_type": "markdown",
      "source": [
        "2. LASSO and Ridge"
      ],
      "metadata": {
        "id": "b-0I1LGIqtNh"
      }
    },
    {
      "cell_type": "code",
      "source": [
        "log = LogisticRegressionCV(cv=5, random_state=0).fit(X1_train_raw, y1_train_raw)\n",
        "auc = cross_val_score(log, X1_test, y1_test, cv=5, scoring='roc_auc')\n",
        "print(f\"\\Test set AUCROC_score with no regularization: {auc.mean()}\")\n",
        "\n",
        "ridge = RidgeClassifierCV(alphas=[1e-3, 1e-2, 1e-1, 1],cv = 5).fit(X1_train_raw, y1_train_raw)\n",
        "aucr = cross_val_score(ridge, X1_test, y1_test, cv=5, scoring='roc_auc')\n",
        "print(f\"\\Test set AUCROC_score with Ridge regularization: {aucr.mean()}\")\n",
        "\n",
        "lasso = LogisticRegressionCV(class_weight= 'balanced', penalty= 'l1', solver= 'liblinear',random_state=42)\n",
        "scores = cross_val_score(lasso,X1_test,y1_test,cv=5,scoring='roc_auc',n_jobs=-1)\n",
        "print(f\"\\Test set AUCROC_score LASSO regularization: {scores.mean()}\")"
      ],
      "metadata": {
        "colab": {
          "base_uri": "https://localhost:8080/"
        },
        "id": "8cXnHwlpsC5i",
        "outputId": "00858a45-36ba-4df0-fed8-49f1b69061e3"
      },
      "execution_count": null,
      "outputs": [
        {
          "output_type": "stream",
          "name": "stdout",
          "text": [
            "\\Test set AUCROC_score with no regularization: 0.9181784159999999\n",
            "\\Test set AUCROC_score with Ridge regularization: 0.915611088\n",
            "\\Test set AUCROC_score LASSO regularization: 0.9183625120000001\n"
          ]
        }
      ]
    },
    {
      "cell_type": "markdown",
      "source": [
        "3. Check gradient using small perturbation"
      ],
      "metadata": {
        "id": "iD2tSYKlGOXi"
      }
    },
    {
      "cell_type": "code",
      "source": [
        "logistic_model_grad = LogisticRegression(verbose=False, add_bias=False, max_iters=10000, learning_rate=0.1)\n",
        "logistic_model_grad.check_grad(X1_train, y1_train)"
      ],
      "metadata": {
        "colab": {
          "base_uri": "https://localhost:8080/"
        },
        "id": "RPUKZ4pnGOIR",
        "outputId": "02f0eee0-b015-43bd-a2f7-d81fa5719c2c"
      },
      "execution_count": null,
      "outputs": [
        {
          "output_type": "stream",
          "name": "stdout",
          "text": [
            "1.3262475746154258e-17\n"
          ]
        }
      ]
    },
    {
      "cell_type": "markdown",
      "metadata": {
        "id": "Gva_1tySRYMv"
      },
      "source": [
        "4. Convergence plot on how the logistic regression converge given the best learning rate of 0.1."
      ]
    },
    {
      "cell_type": "code",
      "execution_count": null,
      "metadata": {
        "id": "X3p0Ws_ZRYMv",
        "colab": {
          "base_uri": "https://localhost:8080/",
          "height": 292
        },
        "outputId": "f1b9e923-f68b-4bb0-fdd2-8cdf19e68565"
      },
      "outputs": [
        {
          "output_type": "display_data",
          "data": {
            "text/plain": [
              "<Figure size 432x288 with 0 Axes>"
            ]
          },
          "metadata": {}
        },
        {
          "output_type": "display_data",
          "data": {
            "text/plain": [
              "<Figure size 460.8x259.2 with 1 Axes>"
            ],
            "image/png": "[encoded data removed]"
          },
          "metadata": {
            "needs_background": "light"
          }
        }
      ],
      "source": [
        "plt.clf()\n",
        "plt.figure(figsize=((16/9)*3.6,3.6))\n",
        "plt.plot(logistic_model_0_1.ce_all)\n",
        "plt.ylabel(\"Cross entropy\")\n",
        "plt.xlabel(\"iteration\")\n",
        "plt.title(\"Convergence Plot: Logistic Regression on IMDB Reviews\")\n",
        "plt.show()"
      ]
    },
    {
      "cell_type": "markdown",
      "metadata": {
        "id": "KqJL09Yan2TI"
      },
      "source": [
        "5. A single plot containing two ROC curves of logistic regression and sklearn-KNN on the IMDB test data"
      ]
    },
    {
      "cell_type": "code",
      "execution_count": null,
      "metadata": {
        "id": "kRebCZR7n7rm",
        "colab": {
          "base_uri": "https://localhost:8080/",
          "height": 279
        },
        "outputId": "29a83bb7-390f-4bf2-b2ea-d9072fdaef03"
      },
      "outputs": [
        {
          "output_type": "display_data",
          "data": {
            "text/plain": [
              "<Figure size 432x288 with 1 Axes>"
            ],
            "image/png": "[encoded data removed]"
          },
          "metadata": {
            "needs_background": "light"
          }
        }
      ],
      "source": [
        "def plot_roc(models):\n",
        "  perf = {}\n",
        "\n",
        "  for model_name, data in models.items():\n",
        "      y_test, y_test_prob = data\n",
        "      # compute ROC and AUROC\n",
        "      fpr, tpr, _ = roc_curve(y_test, y_test_prob)\n",
        "      auroc = roc_auc_score(y_test, y_test_prob)\n",
        "      perf[model_name] = {'fpr':fpr,'tpr':tpr,'auroc':auroc}\n",
        "  \n",
        "  plt.clf()\n",
        "  i = 0\n",
        "  for model_name, model_perf in perf.items():\n",
        "      plt.plot(model_perf['fpr'], model_perf['tpr'],\n",
        "              label=model_name)\n",
        "      plt.text(0.4, i, model_name + ': AUC = '+\n",
        "              str(round(model_perf['auroc'],2)))\n",
        "      i += 0.1\n",
        "\n",
        "  plt.plot((0, 1), (0, 1), linestyle=\"--\", lw=1, color='gray')\n",
        "  plt.legend(loc='upper center', bbox_to_anchor=(0.75, 0.6))\n",
        "  plt.xlabel(\"False Positive Rate\")\n",
        "  plt.ylabel(\"True Positive Rate\")\n",
        "  plt.show()\n",
        "\n",
        "\n",
        "KNN = KNeighborsClassifier(n_neighbors = 3).fit(X1_train, y1_train)\n",
        "y1_test_pred_knn = KNN.predict(X1_test)\n",
        "models_data = {\"Logistic Regression\": (y1_test, y1_test_pred), \"KNN (sklearn)\": (y1_test, y1_test_pred_knn)}\n",
        "plot_roc(models_data)"
      ]
    },
    {
      "cell_type": "markdown",
      "metadata": {
        "id": "BV4BwmruoNF9"
      },
      "source": [
        "6. A bar plot that shows the AUROC of logistic regression and KNN on the test data (y-axis) as a function of the 20%, 40%, 60%, 80%, and 100% training data (x-axis)"
      ]
    },
    {
      "cell_type": "code",
      "execution_count": null,
      "metadata": {
        "id": "17xMEkqhork4",
        "colab": {
          "base_uri": "https://localhost:8080/"
        },
        "outputId": "482ffe75-ffee-4e42-efff-4aa97c8bdb6e"
      },
      "outputs": [
        {
          "output_type": "execute_result",
          "data": {
            "text/plain": [
              "[0.8334400000000001,\n",
              " 0.8380000000000001,\n",
              " 0.8421200000000001,\n",
              " 0.8412400000000001,\n",
              " 0.84124]"
            ]
          },
          "metadata": {},
          "execution_count": 100
        }
      ],
      "source": [
        "# prepare certain proportions of training data\n",
        "data_proportion = [20, 40, 60, 80, 100]\n",
        "training_data = {}\n",
        "for prop in data_proportion:\n",
        "  if prop < 100:\n",
        "    _, X1_train_part, _, y1_train_part = train_test_split(X1_train, y1_train, test_size=prop*0.01, shuffle=True, random_state=111)\n",
        "    training_data[prop] = X1_train_part, y1_train_part\n",
        "  else:\n",
        "    training_data[prop] = X1_train, y1_train\n",
        "\n",
        "# calculate AUROC of logistic regression\n",
        "auroc_logistic = []\n",
        "for prop in data_proportion:\n",
        "  X1_train_part, y1_train_part = training_data[prop]\n",
        "  logistic_model = LogisticRegression(verbose=False, add_bias=False, max_iters=10000, learning_rate=0.1).fit(X1_train_part, y1_train_part)\n",
        "  y1_test_pred_logistic = logistic_model.predict(X1_test)\n",
        "  y1_test_pred_logistic = (y1_test_pred_logistic > 0.5).astype(int)\n",
        "  auroc_logistic.append(roc_auc_score(y1_test, y1_test_pred_logistic))\n",
        "auroc_logistic"
      ]
    },
    {
      "cell_type": "code",
      "execution_count": null,
      "metadata": {
        "id": "Uvm6G7hlqhVI",
        "colab": {
          "base_uri": "https://localhost:8080/"
        },
        "outputId": "05aea949-c7e5-4b3f-d24d-4cafc9fae0ed"
      },
      "outputs": [
        {
          "output_type": "execute_result",
          "data": {
            "text/plain": [
              "[0.64688, 0.6563599999999999, 0.6639999999999999, 0.67056, 0.67344]"
            ]
          },
          "metadata": {},
          "execution_count": 101
        }
      ],
      "source": [
        "# calculate AUROC of KNN\n",
        "auroc_knn = []\n",
        "for prop in data_proportion:\n",
        "  X1_train_part, y1_train_part = training_data[prop]\n",
        "  KNN = KNeighborsClassifier(n_neighbors = 3).fit(X1_train_part, y1_train_part)\n",
        "  y1_test_pred_knn = KNN.predict(X1_test)\n",
        "  y1_test_pred_knn = (y1_test_pred_knn > 0.5).astype(int)\n",
        "  auroc_knn.append(roc_auc_score(y1_test, y1_test_pred_knn))\n",
        "auroc_knn"
      ]
    },
    {
      "cell_type": "code",
      "execution_count": null,
      "metadata": {
        "id": "p9aTAqjg2bTB",
        "colab": {
          "base_uri": "https://localhost:8080/",
          "height": 292
        },
        "outputId": "5c44de12-2065-45c5-f706-1a31fc8d3436"
      },
      "outputs": [
        {
          "output_type": "display_data",
          "data": {
            "text/plain": [
              "<Figure size 432x288 with 0 Axes>"
            ]
          },
          "metadata": {}
        },
        {
          "output_type": "display_data",
          "data": {
            "text/plain": [
              "<Figure size 460.8x259.2 with 1 Axes>"
            ],
            "image/png": "[encoded data removed]"
          },
          "metadata": {
            "needs_background": "light"
          }
        }
      ],
      "source": [
        "# plot AUROC of logistic regression and KNN\n",
        "plt.clf()\n",
        "plt.figure(figsize=((16/9)*3.6,3.6))\n",
        "plt.bar(data_proportion, auroc_logistic, color=\"b\", label=\"Logistic Regression\")\n",
        "plt.bar([x+1 for x in data_proportion], auroc_knn, color=\"r\", label=\"KNN (sklearn)\")\n",
        "plt.ylabel(\"AUROC\")\n",
        "plt.xlabel(\"Training Data (%)\")\n",
        "plt.legend(loc='upper center', bbox_to_anchor=(0.75, 0.6))\n",
        "plt.title(\"AUROC using different sizes of training data\")\n",
        "plt.show()"
      ]
    },
    {
      "cell_type": "markdown",
      "metadata": {
        "id": "1bn2kKoogv16"
      },
      "source": [
        "7. A horizontal bar plot showing the top 20 features (10 most positive and 10 most negative) from the logistic regression on the IMDB data with the coefficient as the x-axis and the feature names (i.e., words) as the y-axis"
      ]
    },
    {
      "cell_type": "code",
      "execution_count": null,
      "metadata": {
        "id": "nlRuXm7eFbmA"
      },
      "outputs": [],
      "source": [
        "effect_size = logistic_model_0_1.w[:(len(logistic_model_0_1.w)-1)]"
      ]
    },
    {
      "cell_type": "code",
      "execution_count": null,
      "metadata": {
        "id": "CyOYOFquFYyQ",
        "colab": {
          "base_uri": "https://localhost:8080/",
          "height": 677
        },
        "outputId": "af82d2f2-747b-4120-edc8-1935248607f0"
      },
      "outputs": [
        {
          "output_type": "execute_result",
          "data": {
            "text/plain": [
              "    Coefficient         Word\n",
              "0      1.087426       superb\n",
              "1      1.082066    excellent\n",
              "2      0.981389      perfect\n",
              "3      0.966864     favorite\n",
              "4      0.880535    fantastic\n",
              "5      0.861145  wonderfully\n",
              "6      0.828508      amazing\n",
              "7      0.795562  masterpiece\n",
              "8      0.794456    wonderful\n",
              "9      0.794336    perfectly\n",
              "10    -1.617660        waste\n",
              "11    -1.438314        worst\n",
              "12    -1.350234        awful\n",
              "13    -1.253130       poorly\n",
              "14    -1.108580         dull\n",
              "15    -1.107893         mess\n",
              "16    -1.099727    pointless\n",
              "17    -0.992146       wasted\n",
              "18    -0.965666    laughable\n",
              "19    -0.949894       boring"
            ],
            "text/html": [
              "\n",
              "  <div id=\"df-7ddf346c-0358-41f6-a25b-0a2153381ad4\">\n",
              "    <div class=\"colab-df-container\">\n",
              "      <div>\n",
              "<style scoped>\n",
              "    .dataframe tbody tr th:only-of-type {\n",
              "        vertical-align: middle;\n",
              "    }\n",
              "\n",
              "    .dataframe tbody tr th {\n",
              "        vertical-align: top;\n",
              "    }\n",
              "\n",
              "    .dataframe thead th {\n",
              "        text-align: right;\n",
              "    }\n",
              "</style>\n",
              "<table border=\"1\" class=\"dataframe\">\n",
              "  <thead>\n",
              "    <tr style=\"text-align: right;\">\n",
              "      <th></th>\n",
              "      <th>Coefficient</th>\n",
              "      <th>Word</th>\n",
              "    </tr>\n",
              "  </thead>\n",
              "  <tbody>\n",
              "    <tr>\n",
              "      <th>0</th>\n",
              "      <td>1.087426</td>\n",
              "      <td>superb</td>\n",
              "    </tr>\n",
              "    <tr>\n",
              "      <th>1</th>\n",
              "      <td>1.082066</td>\n",
              "      <td>excellent</td>\n",
              "    </tr>\n",
              "    <tr>\n",
              "      <th>2</th>\n",
              "      <td>0.981389</td>\n",
              "      <td>perfect</td>\n",
              "    </tr>\n",
              "    <tr>\n",
              "      <th>3</th>\n",
              "      <td>0.966864</td>\n",
              "      <td>favorite</td>\n",
              "    </tr>\n",
              "    <tr>\n",
              "      <th>4</th>\n",
              "      <td>0.880535</td>\n",
              "      <td>fantastic</td>\n",
              "    </tr>\n",
              "    <tr>\n",
              "      <th>5</th>\n",
              "      <td>0.861145</td>\n",
              "      <td>wonderfully</td>\n",
              "    </tr>\n",
              "    <tr>\n",
              "      <th>6</th>\n",
              "      <td>0.828508</td>\n",
              "      <td>amazing</td>\n",
              "    </tr>\n",
              "    <tr>\n",
              "      <th>7</th>\n",
              "      <td>0.795562</td>\n",
              "      <td>masterpiece</td>\n",
              "    </tr>\n",
              "    <tr>\n",
              "      <th>8</th>\n",
              "      <td>0.794456</td>\n",
              "      <td>wonderful</td>\n",
              "    </tr>\n",
              "    <tr>\n",
              "      <th>9</th>\n",
              "      <td>0.794336</td>\n",
              "      <td>perfectly</td>\n",
              "    </tr>\n",
              "    <tr>\n",
              "      <th>10</th>\n",
              "      <td>-1.617660</td>\n",
              "      <td>waste</td>\n",
              "    </tr>\n",
              "    <tr>\n",
              "      <th>11</th>\n",
              "      <td>-1.438314</td>\n",
              "      <td>worst</td>\n",
              "    </tr>\n",
              "    <tr>\n",
              "      <th>12</th>\n",
              "      <td>-1.350234</td>\n",
              "      <td>awful</td>\n",
              "    </tr>\n",
              "    <tr>\n",
              "      <th>13</th>\n",
              "      <td>-1.253130</td>\n",
              "      <td>poorly</td>\n",
              "    </tr>\n",
              "    <tr>\n",
              "      <th>14</th>\n",
              "      <td>-1.108580</td>\n",
              "      <td>dull</td>\n",
              "    </tr>\n",
              "    <tr>\n",
              "      <th>15</th>\n",
              "      <td>-1.107893</td>\n",
              "      <td>mess</td>\n",
              "    </tr>\n",
              "    <tr>\n",
              "      <th>16</th>\n",
              "      <td>-1.099727</td>\n",
              "      <td>pointless</td>\n",
              "    </tr>\n",
              "    <tr>\n",
              "      <th>17</th>\n",
              "      <td>-0.992146</td>\n",
              "      <td>wasted</td>\n",
              "    </tr>\n",
              "    <tr>\n",
              "      <th>18</th>\n",
              "      <td>-0.965666</td>\n",
              "      <td>laughable</td>\n",
              "    </tr>\n",
              "    <tr>\n",
              "      <th>19</th>\n",
              "      <td>-0.949894</td>\n",
              "      <td>boring</td>\n",
              "    </tr>\n",
              "  </tbody>\n",
              "</table>\n",
              "</div>\n",
              "      <button class=\"colab-df-convert\" onclick=\"convertToInteractive('df-7ddf346c-0358-41f6-a25b-0a2153381ad4')\"\n",
              "              title=\"Convert this dataframe to an interactive table.\"\n",
              "              style=\"display:none;\">\n",
              "        \n",
              "  <svg xmlns=\"http://www.w3.org/2000/svg\" height=\"24px\"viewBox=\"0 0 24 24\"\n",
              "       width=\"24px\">\n",
              "    <path d=\"M0 0h24v24H0V0z\" fill=\"none\"/>\n",
              "    <path d=\"M18.56 5.44l.94 2.06.94-2.06 2.06-.94-2.06-.94-.94-2.06-.94 2.06-2.06.94zm-11 1L8.5 8.5l.94-2.06 2.06-.94-2.06-.94L8.5 2.5l-.94 2.06-2.06.94zm10 10l.94 2.06.94-2.06 2.06-.94-2.06-.94-.94-2.06-.94 2.06-2.06.94z\"/><path d=\"M17.41 7.96l-1.37-1.37c-.4-.4-.92-.59-1.43-.59-.52 0-1.04.2-1.43.59L10.3 9.45l-7.72 7.72c-.78.78-.78 2.05 0 2.83L4 21.41c.39.39.9.59 1.41.59.51 0 1.02-.2 1.41-.59l7.78-7.78 2.81-2.81c.8-.78.8-2.07 0-2.86zM5.41 20L4 18.59l7.72-7.72 1.47 1.35L5.41 20z\"/>\n",
              "  </svg>\n",
              "      </button>\n",
              "      \n",
              "  <style>\n",
              "    .colab-df-container {\n",
              "      display:flex;\n",
              "      flex-wrap:wrap;\n",
              "      gap: 12px;\n",
              "    }\n",
              "\n",
              "    .colab-df-convert {\n",
              "      background-color: #E8F0FE;\n",
              "      border: none;\n",
              "      border-radius: 50%;\n",
              "      cursor: pointer;\n",
              "      display: none;\n",
              "      fill: #1967D2;\n",
              "      height: 32px;\n",
              "      padding: 0 0 0 0;\n",
              "      width: 32px;\n",
              "    }\n",
              "\n",
              "    .colab-df-convert:hover {\n",
              "      background-color: #E2EBFA;\n",
              "      box-shadow: 0px 1px 2px rgba(60, 64, 67, 0.3), 0px 1px 3px 1px rgba(60, 64, 67, 0.15);\n",
              "      fill: #174EA6;\n",
              "    }\n",
              "\n",
              "    [theme=dark] .colab-df-convert {\n",
              "      background-color: #3B4455;\n",
              "      fill: #D2E3FC;\n",
              "    }\n",
              "\n",
              "    [theme=dark] .colab-df-convert:hover {\n",
              "      background-color: #434B5C;\n",
              "      box-shadow: 0px 1px 3px 1px rgba(0, 0, 0, 0.15);\n",
              "      filter: drop-shadow(0px 1px 2px rgba(0, 0, 0, 0.3));\n",
              "      fill: #FFFFFF;\n",
              "    }\n",
              "  </style>\n",
              "\n",
              "      <script>\n",
              "        const buttonEl =\n",
              "          document.querySelector('#df-7ddf346c-0358-41f6-a25b-0a2153381ad4 button.colab-df-convert');\n",
              "        buttonEl.style.display =\n",
              "          google.colab.kernel.accessAllowed ? 'block' : 'none';\n",
              "\n",
              "        async function convertToInteractive(key) {\n",
              "          const element = document.querySelector('#df-7ddf346c-0358-41f6-a25b-0a2153381ad4');\n",
              "          const dataTable =\n",
              "            await google.colab.kernel.invokeFunction('convertToInteractive',\n",
              "                                                     [key], {});\n",
              "          if (!dataTable) return;\n",
              "\n",
              "          const docLinkHtml = 'Like what you see? Visit the ' +\n",
              "            '<a target=\"_blank\" href=https://colab.research.google.com/notebooks/data_table.ipynb>data table notebook</a>'\n",
              "            + ' to learn more about interactive tables.';\n",
              "          element.innerHTML = '';\n",
              "          dataTable['output_type'] = 'display_data';\n",
              "          await google.colab.output.renderOutput(dataTable, element);\n",
              "          const docLink = document.createElement('div');\n",
              "          docLink.innerHTML = docLinkHtml;\n",
              "          element.appendChild(docLink);\n",
              "        }\n",
              "      </script>\n",
              "    </div>\n",
              "  </div>\n",
              "  "
            ]
          },
          "metadata": {},
          "execution_count": 107
        }
      ],
      "source": [
        "most_pos = np.sort(effect_size)[::-1][:10]\n",
        "most_neg = np.sort(effect_size)[:10]\n",
        "pos_words = most_imp_words[np.argsort(effect_size)[::-1][:10]]\n",
        "neg_words = most_imp_words[np.argsort(effect_size)[:10]]\n",
        "\n",
        "coef = {'Coefficient':list(np.append(most_pos, most_neg)), 'Word':list(np.append(pos_words, neg_words))}\n",
        "data_coeff = pd.DataFrame(coef)\n",
        "data_coeff"
      ]
    },
    {
      "cell_type": "code",
      "execution_count": null,
      "metadata": {
        "id": "z0zk9e4HJW9v",
        "colab": {
          "base_uri": "https://localhost:8080/",
          "height": 387
        },
        "outputId": "ec8e1841-0586-4284-8deb-fac541c224eb"
      },
      "outputs": [
        {
          "output_type": "execute_result",
          "data": {
            "text/plain": [
              "<seaborn.axisgrid.FacetGrid at 0x7f226fc3f490>"
            ]
          },
          "metadata": {},
          "execution_count": 108
        },
        {
          "output_type": "display_data",
          "data": {
            "text/plain": [
              "<Figure size 360x360 with 1 Axes>"
            ],
            "image/png": "[encoded data removed]"
          },
          "metadata": {
            "needs_background": "light"
          }
        }
      ],
      "source": [
        "sn.catplot(x = 'Coefficient',y = 'Word', kind = 'bar',data = data_coeff)"
      ]
    },
    {
      "cell_type": "markdown",
      "metadata": {
        "id": "dkRG88FWRYMv"
      },
      "source": [
        "## Dataset 2: 20 news groups"
      ]
    },
    {
      "cell_type": "markdown",
      "metadata": {
        "id": "Ps1PjW_xtARo"
      },
      "source": [
        "1. Check gradient using small perturbation\n",
        "\n"
      ]
    },
    {
      "cell_type": "code",
      "execution_count": null,
      "metadata": {
        "id": "Mkk9_xpIRYMv"
      },
      "outputs": [],
      "source": [
        "X2_train, X2_val, y2_train, y2_val = train_test_split(X2_train_raw, y2_train_raw, test_size=0.3, shuffle=True, random_state=11)\n",
        "X2_train, X2_val, y2_train, y2_val = X2_train.astype('float128'), X2_val.astype('float128'), y2_train.astype('float128'), y2_val.astype('float128')"
      ]
    },
    {
      "cell_type": "code",
      "execution_count": null,
      "metadata": {
        "id": "T64tF8oRaKaq"
      },
      "outputs": [],
      "source": [
        "D = X2_train.shape[1]\n",
        "C = y2_train.shape[1]\n",
        "mlr = Multinomial_logistic(D, C)"
      ]
    },
    {
      "cell_type": "code",
      "execution_count": null,
      "metadata": {
        "id": "acs7ftFXVBo9",
        "colab": {
          "base_uri": "https://localhost:8080/"
        },
        "outputId": "2a4e5942-c77a-421f-fcfb-f553a536cc01"
      },
      "outputs": [
        {
          "output_type": "stream",
          "name": "stdout",
          "text": [
            "2.941441905506209e-14\n"
          ]
        }
      ],
      "source": [
        "print(mlr.check_grad(X2_train, y2_train))"
      ]
    },
    {
      "cell_type": "markdown",
      "metadata": {
        "id": "9H9mHxYKtEjA"
      },
      "source": [
        "2. Convergence plot on how the multiclass regression converge with α=0.00025"
      ]
    },
    {
      "cell_type": "code",
      "execution_count": null,
      "metadata": {
        "id": "jW5TYJeHXerN"
      },
      "outputs": [],
      "source": [
        "D = X2_train.shape[1]\n",
        "C = y2_train.shape[1]\n",
        "mlr = Multinomial_logistic(D, C)\n",
        "ce_train, ce_valid = mlr.fit(X2_train, y2_train, X2_val, y2_val, lr=0.00025, max_iters=1000)"
      ]
    },
    {
      "cell_type": "code",
      "execution_count": null,
      "metadata": {
        "id": "-VvylVEIWc6x",
        "colab": {
          "base_uri": "https://localhost:8080/",
          "height": 279
        },
        "outputId": "05eac8ba-cf6d-4b93-d57e-f62b4f7f4efd"
      },
      "outputs": [
        {
          "output_type": "display_data",
          "data": {
            "text/plain": [
              "<Figure size 432x288 with 1 Axes>"
            ],
            "image/png": "[encoded data removed]"
          },
          "metadata": {
            "needs_background": "light"
          }
        }
      ],
      "source": [
        "plt.clf()\n",
        "plt.plot(ce_train/X2_train.shape[0], label='train')\n",
        "plt.plot(ce_valid/X2_val.shape[0], label='valid')\n",
        "plt.xlabel(\"iteration\")\n",
        "plt.ylabel(\"CE\")\n",
        "plt.legend()\n",
        "plt.show()"
      ]
    },
    {
      "cell_type": "markdown",
      "metadata": {
        "id": "yJSrH-SWcE0P"
      },
      "source": [
        "3. A bar plot that shows the accuracy of multiclass regression and KNN on the test data (y-axis) as a function of the 20%, 40%, 60%, 80%, and 100% training data (x-axis)"
      ]
    },
    {
      "cell_type": "code",
      "execution_count": null,
      "metadata": {
        "id": "Gc5qC-yjcL61",
        "colab": {
          "base_uri": "https://localhost:8080/"
        },
        "outputId": "700aa74b-4f79-4098-8fb1-791637960ca8"
      },
      "outputs": [
        {
          "output_type": "execute_result",
          "data": {
            "text/plain": [
              "[0.6984829329962073,\n",
              " 0.7629582806573957,\n",
              " 0.7730720606826802,\n",
              " 0.7781289506953224,\n",
              " 0.7907711757269279]"
            ]
          },
          "metadata": {},
          "execution_count": 115
        }
      ],
      "source": [
        "# prepare certain proportions of training data\n",
        "data_proportion = [20, 40, 60, 80, 100]\n",
        "training_data = {}\n",
        "for prop in data_proportion:\n",
        "  if prop < 100:\n",
        "    _, X2_train_part, _, y2_train_part = train_test_split(X2_train, y2_train, test_size=prop*0.01, shuffle=True, random_state=111)\n",
        "    training_data[prop] = X2_train_part, y2_train_part\n",
        "  else:\n",
        "    training_data[prop] = X2_train, y2_train\n",
        "\n",
        "# calculate accuracy of multiclass regression\n",
        "accuracy = []\n",
        "for prop in data_proportion:\n",
        "  X2_train_part, y2_train_part = training_data[prop]\n",
        "  D = X2_train_part.shape[1]\n",
        "  C = y2_train_part.shape[1]\n",
        "  multiclass_model = Multinomial_logistic(D,C)\n",
        "  multiclass_model.fit(X2_train_part, y2_train_part, lr = 0.0005)\n",
        "  y2_test_pred_multiclass = multiclass_model.predict(X2_test)\n",
        "  accuracy.append(evaluate(y2_test, y2_test_pred_multiclass))\n",
        "accuracy"
      ]
    },
    {
      "cell_type": "code",
      "execution_count": null,
      "metadata": {
        "id": "SG9c5XW7so9V",
        "colab": {
          "base_uri": "https://localhost:8080/"
        },
        "outputId": "8e0c7ca3-f154-4c47-999e-28de40870e70"
      },
      "outputs": [
        {
          "output_type": "execute_result",
          "data": {
            "text/plain": [
              "[0.4424778761061947,\n",
              " 0.4683944374209861,\n",
              " 0.48166877370417194,\n",
              " 0.4823008849557522,\n",
              " 0.49557522123893805]"
            ]
          },
          "metadata": {},
          "execution_count": 116
        }
      ],
      "source": [
        "# calculate accuracy of KNN\n",
        "accuracy_knn = []\n",
        "for prop in data_proportion:\n",
        "  X2_train_part, y2_train_part = training_data[prop]\n",
        "  knn_model = KNeighborsClassifier(n_neighbors = 3)\n",
        "  knn_model.fit(X2_train_part, y2_train_part)\n",
        "  y2_test_pred_knn = knn_model.predict(X2_test)\n",
        "  accuracy_knn.append(evaluate(y2_test, y2_test_pred_knn))\n",
        "accuracy_knn"
      ]
    },
    {
      "cell_type": "code",
      "execution_count": null,
      "metadata": {
        "id": "tcD2WEUHv7Fw",
        "colab": {
          "base_uri": "https://localhost:8080/",
          "height": 292
        },
        "outputId": "3ce70dc1-f4d3-426d-b912-fb9ed6520fdb"
      },
      "outputs": [
        {
          "output_type": "display_data",
          "data": {
            "text/plain": [
              "<Figure size 432x288 with 0 Axes>"
            ]
          },
          "metadata": {}
        },
        {
          "output_type": "display_data",
          "data": {
            "text/plain": [
              "<Figure size 460.8x259.2 with 1 Axes>"
            ],
            "image/png": "[encoded data removed]"
          },
          "metadata": {
            "needs_background": "light"
          }
        }
      ],
      "source": [
        "# plot accuracy of multiclass logistic regression and KNN\n",
        "plt.clf()\n",
        "plt.figure(figsize=((16/9)*3.6,3.6))\n",
        "plt.bar(data_proportion, accuracy, color =\"b\", label=\"Multinomial Logistic\")\n",
        "plt.bar([x + 1 for x in data_proportion], accuracy_knn, color=\"r\", label=\"KNN (sklearn)\")\n",
        "plt.ylabel(\"Accuracy\")\n",
        "plt.xlabel(\"Training Data (%)\")\n",
        "plt.legend(loc='upper center', bbox_to_anchor=(0.75, 0.6))\n",
        "plt.title(\"Accuracy using different sizes of training data\")\n",
        "plt.show()"
      ]
    },
    {
      "cell_type": "markdown",
      "metadata": {
        "id": "f0a4Kl7KtipV"
      },
      "source": [
        "4. A heatmap showing the top 5 most positive features as rows for each class as columns in the multi-class classification on 4 the chosen classes from the 20-news group datasets."
      ]
    },
    {
      "cell_type": "code",
      "execution_count": null,
      "metadata": {
        "id": "1DCOUiBnvEfp"
      },
      "outputs": [],
      "source": [
        "g1, g2, g3, g4 = [], [], [], []\n",
        "s1, s2, s3, s4 = [], [], [], []\n",
        "for i in range(297):\n",
        "  s1.append(mlr.W[i][0])\n",
        "  s2.append(mlr.W[i][1])\n",
        "  s3.append(mlr.W[i][2])\n",
        "  s4.append(mlr.W[i][3])\n",
        "for i in range(297):\n",
        "  g1.append(mlr.W[i][0])\n",
        "  g2.append(mlr.W[i][1])\n",
        "  g3.append(mlr.W[i][2])\n",
        "  g4.append(mlr.W[i][3])\n",
        "g1.sort()\n",
        "g2.sort()\n",
        "g3.sort()\n",
        "g4.sort()\n",
        "g1.reverse()\n",
        "g2.reverse()\n",
        "g3.reverse()\n",
        "g4.reverse()\n",
        "\n",
        "index_l1 = []\n",
        "index_l2 = []\n",
        "index_l3 = []\n",
        "index_l4 = []\n",
        "\n",
        "#compute the index from feature_final to filter_out_ind\n",
        "for i in range(20):\n",
        "  for j in range(297):\n",
        "    if s1[j] == g1[i]:\n",
        "      index_l1.append(feature_final[j])\n",
        "    if s2[j] == g2[i]:\n",
        "      index_l2.append(feature_final[j])\n",
        "    if s3[j] == g3[i]:\n",
        "      index_l3.append(feature_final[j])\n",
        "    if s4[j] == g4[i]:\n",
        "      index_l4.append(feature_final[j])\n",
        "\n",
        "#find the original word\n",
        "for i in range(20):\n",
        "  index_l1[i] = names_[filter_out_ind[index_l1[i]]]\n",
        "  index_l2[i] = names_[filter_out_ind[index_l2[i]]]\n",
        "  index_l3[i] = names_[filter_out_ind[index_l3[i]]]\n",
        "  index_l4[i] = names_[filter_out_ind[index_l4[i]]]\n"
      ]
    },
    {
      "cell_type": "code",
      "source": [
        "mul_dict = {'comp.graphics':index_l1, 'rec.sport.hockey':index_l2, 'sci.med':index_l3, 'soc.religion.christian':index_l4} \n",
        "mul_feature = pd.DataFrame(mul_dict)\n",
        "mul_feature"
      ],
      "metadata": {
        "colab": {
          "base_uri": "https://localhost:8080/",
          "height": 677
        },
        "id": "a_zcSa_Bz4uO",
        "outputId": "84710f7a-1a25-4ffc-ee88-c334c9892400"
      },
      "execution_count": null,
      "outputs": [
        {
          "output_type": "execute_result",
          "data": {
            "text/plain": [
              "   comp.graphics rec.sport.hockey    sci.med soc.religion.christian\n",
              "0       graphics             team    disease                 church\n",
              "1          files           hockey        msg                  bible\n",
              "2         images             game     cancer                    god\n",
              "3             3d            games   syndrome                 christ\n",
              "4          image             play  treatment                 heaven\n",
              "5           code           season       food                  jesus\n",
              "6       computer              win      blood             christians\n",
              "7        looking          toronto      cause              christian\n",
              "8      algorithm          playoff      banks                   word\n",
              "9           file         montreal        sci           christianity\n",
              "10            hi           league     doctor               catholic\n",
              "11         using       pittsburgh     health                   lord\n",
              "12        colors           flyers        dsl                   life\n",
              "13           gif              nhl   symptoms                   jews\n",
              "14       package             year  intellect                  truth\n",
              "15       polygon              cup    results                eternal\n",
              "16       version          rangers  physician               biblical\n",
              "17         color            teams       pain           resurrection\n",
              "18          unix               he    medical                   love\n",
              "19           use             fans   hospital                    who"
            ],
            "text/html": [
              "\n",
              "  <div id=\"df-97f6ede2-619e-444c-b808-49304fa749dd\">\n",
              "    <div class=\"colab-df-container\">\n",
              "      <div>\n",
              "<style scoped>\n",
              "    .dataframe tbody tr th:only-of-type {\n",
              "        vertical-align: middle;\n",
              "    }\n",
              "\n",
              "    .dataframe tbody tr th {\n",
              "        vertical-align: top;\n",
              "    }\n",
              "\n",
              "    .dataframe thead th {\n",
              "        text-align: right;\n",
              "    }\n",
              "</style>\n",
              "<table border=\"1\" class=\"dataframe\">\n",
              "  <thead>\n",
              "    <tr style=\"text-align: right;\">\n",
              "      <th></th>\n",
              "      <th>comp.graphics</th>\n",
              "      <th>rec.sport.hockey</th>\n",
              "      <th>sci.med</th>\n",
              "      <th>soc.religion.christian</th>\n",
              "    </tr>\n",
              "  </thead>\n",
              "  <tbody>\n",
              "    <tr>\n",
              "      <th>0</th>\n",
              "      <td>graphics</td>\n",
              "      <td>team</td>\n",
              "      <td>disease</td>\n",
              "      <td>church</td>\n",
              "    </tr>\n",
              "    <tr>\n",
              "      <th>1</th>\n",
              "      <td>files</td>\n",
              "      <td>hockey</td>\n",
              "      <td>msg</td>\n",
              "      <td>bible</td>\n",
              "    </tr>\n",
              "    <tr>\n",
              "      <th>2</th>\n",
              "      <td>images</td>\n",
              "      <td>game</td>\n",
              "      <td>cancer</td>\n",
              "      <td>god</td>\n",
              "    </tr>\n",
              "    <tr>\n",
              "      <th>3</th>\n",
              "      <td>3d</td>\n",
              "      <td>games</td>\n",
              "      <td>syndrome</td>\n",
              "      <td>christ</td>\n",
              "    </tr>\n",
              "    <tr>\n",
              "      <th>4</th>\n",
              "      <td>image</td>\n",
              "      <td>play</td>\n",
              "      <td>treatment</td>\n",
              "      <td>heaven</td>\n",
              "    </tr>\n",
              "    <tr>\n",
              "      <th>5</th>\n",
              "      <td>code</td>\n",
              "      <td>season</td>\n",
              "      <td>food</td>\n",
              "      <td>jesus</td>\n",
              "    </tr>\n",
              "    <tr>\n",
              "      <th>6</th>\n",
              "      <td>computer</td>\n",
              "      <td>win</td>\n",
              "      <td>blood</td>\n",
              "      <td>christians</td>\n",
              "    </tr>\n",
              "    <tr>\n",
              "      <th>7</th>\n",
              "      <td>looking</td>\n",
              "      <td>toronto</td>\n",
              "      <td>cause</td>\n",
              "      <td>christian</td>\n",
              "    </tr>\n",
              "    <tr>\n",
              "      <th>8</th>\n",
              "      <td>algorithm</td>\n",
              "      <td>playoff</td>\n",
              "      <td>banks</td>\n",
              "      <td>word</td>\n",
              "    </tr>\n",
              "    <tr>\n",
              "      <th>9</th>\n",
              "      <td>file</td>\n",
              "      <td>montreal</td>\n",
              "      <td>sci</td>\n",
              "      <td>christianity</td>\n",
              "    </tr>\n",
              "    <tr>\n",
              "      <th>10</th>\n",
              "      <td>hi</td>\n",
              "      <td>league</td>\n",
              "      <td>doctor</td>\n",
              "      <td>catholic</td>\n",
              "    </tr>\n",
              "    <tr>\n",
              "      <th>11</th>\n",
              "      <td>using</td>\n",
              "      <td>pittsburgh</td>\n",
              "      <td>health</td>\n",
              "      <td>lord</td>\n",
              "    </tr>\n",
              "    <tr>\n",
              "      <th>12</th>\n",
              "      <td>colors</td>\n",
              "      <td>flyers</td>\n",
              "      <td>dsl</td>\n",
              "      <td>life</td>\n",
              "    </tr>\n",
              "    <tr>\n",
              "      <th>13</th>\n",
              "      <td>gif</td>\n",
              "      <td>nhl</td>\n",
              "      <td>symptoms</td>\n",
              "      <td>jews</td>\n",
              "    </tr>\n",
              "    <tr>\n",
              "      <th>14</th>\n",
              "      <td>package</td>\n",
              "      <td>year</td>\n",
              "      <td>intellect</td>\n",
              "      <td>truth</td>\n",
              "    </tr>\n",
              "    <tr>\n",
              "      <th>15</th>\n",
              "      <td>polygon</td>\n",
              "      <td>cup</td>\n",
              "      <td>results</td>\n",
              "      <td>eternal</td>\n",
              "    </tr>\n",
              "    <tr>\n",
              "      <th>16</th>\n",
              "      <td>version</td>\n",
              "      <td>rangers</td>\n",
              "      <td>physician</td>\n",
              "      <td>biblical</td>\n",
              "    </tr>\n",
              "    <tr>\n",
              "      <th>17</th>\n",
              "      <td>color</td>\n",
              "      <td>teams</td>\n",
              "      <td>pain</td>\n",
              "      <td>resurrection</td>\n",
              "    </tr>\n",
              "    <tr>\n",
              "      <th>18</th>\n",
              "      <td>unix</td>\n",
              "      <td>he</td>\n",
              "      <td>medical</td>\n",
              "      <td>love</td>\n",
              "    </tr>\n",
              "    <tr>\n",
              "      <th>19</th>\n",
              "      <td>use</td>\n",
              "      <td>fans</td>\n",
              "      <td>hospital</td>\n",
              "      <td>who</td>\n",
              "    </tr>\n",
              "  </tbody>\n",
              "</table>\n",
              "</div>\n",
              "      <button class=\"colab-df-convert\" onclick=\"convertToInteractive('df-97f6ede2-619e-444c-b808-49304fa749dd')\"\n",
              "              title=\"Convert this dataframe to an interactive table.\"\n",
              "              style=\"display:none;\">\n",
              "        \n",
              "  <svg xmlns=\"http://www.w3.org/2000/svg\" height=\"24px\"viewBox=\"0 0 24 24\"\n",
              "       width=\"24px\">\n",
              "    <path d=\"M0 0h24v24H0V0z\" fill=\"none\"/>\n",
              "    <path d=\"M18.56 5.44l.94 2.06.94-2.06 2.06-.94-2.06-.94-.94-2.06-.94 2.06-2.06.94zm-11 1L8.5 8.5l.94-2.06 2.06-.94-2.06-.94L8.5 2.5l-.94 2.06-2.06.94zm10 10l.94 2.06.94-2.06 2.06-.94-2.06-.94-.94-2.06-.94 2.06-2.06.94z\"/><path d=\"M17.41 7.96l-1.37-1.37c-.4-.4-.92-.59-1.43-.59-.52 0-1.04.2-1.43.59L10.3 9.45l-7.72 7.72c-.78.78-.78 2.05 0 2.83L4 21.41c.39.39.9.59 1.41.59.51 0 1.02-.2 1.41-.59l7.78-7.78 2.81-2.81c.8-.78.8-2.07 0-2.86zM5.41 20L4 18.59l7.72-7.72 1.47 1.35L5.41 20z\"/>\n",
              "  </svg>\n",
              "      </button>\n",
              "      \n",
              "  <style>\n",
              "    .colab-df-container {\n",
              "      display:flex;\n",
              "      flex-wrap:wrap;\n",
              "      gap: 12px;\n",
              "    }\n",
              "\n",
              "    .colab-df-convert {\n",
              "      background-color: #E8F0FE;\n",
              "      border: none;\n",
              "      border-radius: 50%;\n",
              "      cursor: pointer;\n",
              "      display: none;\n",
              "      fill: #1967D2;\n",
              "      height: 32px;\n",
              "      padding: 0 0 0 0;\n",
              "      width: 32px;\n",
              "    }\n",
              "\n",
              "    .colab-df-convert:hover {\n",
              "      background-color: #E2EBFA;\n",
              "      box-shadow: 0px 1px 2px rgba(60, 64, 67, 0.3), 0px 1px 3px 1px rgba(60, 64, 67, 0.15);\n",
              "      fill: #174EA6;\n",
              "    }\n",
              "\n",
              "    [theme=dark] .colab-df-convert {\n",
              "      background-color: #3B4455;\n",
              "      fill: #D2E3FC;\n",
              "    }\n",
              "\n",
              "    [theme=dark] .colab-df-convert:hover {\n",
              "      background-color: #434B5C;\n",
              "      box-shadow: 0px 1px 3px 1px rgba(0, 0, 0, 0.15);\n",
              "      filter: drop-shadow(0px 1px 2px rgba(0, 0, 0, 0.3));\n",
              "      fill: #FFFFFF;\n",
              "    }\n",
              "  </style>\n",
              "\n",
              "      <script>\n",
              "        const buttonEl =\n",
              "          document.querySelector('#df-97f6ede2-619e-444c-b808-49304fa749dd button.colab-df-convert');\n",
              "        buttonEl.style.display =\n",
              "          google.colab.kernel.accessAllowed ? 'block' : 'none';\n",
              "\n",
              "        async function convertToInteractive(key) {\n",
              "          const element = document.querySelector('#df-97f6ede2-619e-444c-b808-49304fa749dd');\n",
              "          const dataTable =\n",
              "            await google.colab.kernel.invokeFunction('convertToInteractive',\n",
              "                                                     [key], {});\n",
              "          if (!dataTable) return;\n",
              "\n",
              "          const docLinkHtml = 'Like what you see? Visit the ' +\n",
              "            '<a target=\"_blank\" href=https://colab.research.google.com/notebooks/data_table.ipynb>data table notebook</a>'\n",
              "            + ' to learn more about interactive tables.';\n",
              "          element.innerHTML = '';\n",
              "          dataTable['output_type'] = 'display_data';\n",
              "          await google.colab.output.renderOutput(dataTable, element);\n",
              "          const docLink = document.createElement('div');\n",
              "          docLink.innerHTML = docLinkHtml;\n",
              "          element.appendChild(docLink);\n",
              "        }\n",
              "      </script>\n",
              "    </div>\n",
              "  </div>\n",
              "  "
            ]
          },
          "metadata": {},
          "execution_count": 119
        }
      ]
    },
    {
      "cell_type": "code",
      "execution_count": null,
      "metadata": {
        "id": "m9Wf4DhnCDdb"
      },
      "outputs": [],
      "source": [
        "word1 = []\n",
        "word2 = []\n",
        "word3 = []\n",
        "word4 = []\n",
        "word1_j, word2_j, word3_j, word4_j = [], [], [], []\n",
        "\n",
        "for i in range(20):\n",
        "  for j in range(296):\n",
        "    if s1[j] == g1[i]:\n",
        "      word1.append(filter_out_ind[feature_final[j]])\n",
        "      word1_j.append(j)\n",
        "    if s2[j] == g2[i]:\n",
        "      word2.append(filter_out_ind[feature_final[j]])\n",
        "      word2_j.append(j)\n",
        "    if s3[j] == g3[i]:\n",
        "      word3.append(filter_out_ind[feature_final[j]])\n",
        "      word3_j.append(j)\n",
        "    if s4[j] == g4[i]:\n",
        "      word4.append(filter_out_ind[feature_final[j]])\n",
        "      word4_j.append(j)\n",
        "\n",
        "\n",
        "map = [[0]*4]*20\n",
        "frac = [0,0,0,0]\n",
        "for i in range(20):\n",
        "  frac = [df.loc[word1[i]].at[\"percent\"],df.loc[word2[i]].at[\"percent\"],df.loc[word3[i]].at[\"percent\"],df.loc[word4[i]].at[\"percent\"]]\n",
        "  map[i] = frac\n"
      ]
    },
    {
      "cell_type": "code",
      "source": [
        "# words from the four classes\n",
        "words = []\n",
        "for j in range(5):\n",
        "  words.append(index_l1[j])\n",
        "\n",
        "for j in range(5):\n",
        "  words.append(index_l2[j])\n",
        "\n",
        "for j in range(5):\n",
        "  words.append(index_l3[j])\n",
        "\n",
        "for j in range(5):\n",
        "  words.append(index_l4[j])\n",
        "\n",
        "# four sets\n",
        "columns = [\"comp.graphics\", \"rec.sport.hockey\",\"sci.med\",\"soc.religion.christian\"]\n",
        "\n",
        "map = [[0]*4]*20\n",
        "frac = [0,0,0,0]\n",
        "for i, word in enumerate(words):\n",
        "  label = i // 5\n",
        "  word_ind = -1\n",
        "  if label == 0:\n",
        "    word_ind = word1_j[i % 5]\n",
        "  elif label == 1:\n",
        "    word_ind = word2_j[i % 5]\n",
        "  elif label == 2:\n",
        "    word_ind = word3_j[i % 5]\n",
        "  else:\n",
        "    word_ind = word4_j[i % 5]\n",
        "  frac = mlr.W[word_ind]\n",
        "  map[i] = frac\n",
        "\n",
        "heatdf = pd.DataFrame(map, columns=columns, index=words)"
      ],
      "metadata": {
        "id": "OCvPXMmr4zJ_"
      },
      "execution_count": null,
      "outputs": []
    },
    {
      "cell_type": "code",
      "execution_count": null,
      "metadata": {
        "id": "jYCpNpK_tmW8",
        "colab": {
          "base_uri": "https://localhost:8080/",
          "height": 375
        },
        "outputId": "1f5f7fe8-c3f3-4e5a-f590-ea390c1cbeaf"
      },
      "outputs": [
        {
          "output_type": "display_data",
          "data": {
            "text/plain": [
              "<Figure size 432x288 with 2 Axes>"
            ],
            "image/png": "[encoded data removed]"
          },
          "metadata": {
            "needs_background": "light"
          }
        }
      ],
      "source": [
        "plt.clf()\n",
        "plt.ylabel(\"4 chosen classes\")\n",
        "plt.xlabel(\"20-news group\")\n",
        "sn.heatmap(heatdf,annot=True,)\n",
        "plt.title(\"The heatmap for top 5 most positive features\")\n",
        "\n",
        "plt.show()"
      ]
    },
    {
      "cell_type": "markdown",
      "source": [
        "5. LASSO and Ridge"
      ],
      "metadata": {
        "id": "sR7MM02OrDJH"
      }
    },
    {
      "cell_type": "code",
      "source": [
        "mul = LogisticRegressionCV( multi_class = 'ovr', solver= 'saga', random_state=0).fit(X2_train_raw, target_train)\n",
        "accn = cross_val_score(mul, X2_test, target_test, cv = 5, scoring='accuracy')\n",
        "print(f\"\\Test set accuracy with no regularization: {accn.mean()}\")\n",
        "\n",
        "ridge_m = RidgeClassifierCV(alphas=[1e-3, 1e-2, 1e-1, 1], cv = 5).fit(X2_train_raw, target_train)\n",
        "accr = cross_val_score(ridge_m, X2_test, target_test, cv = 5, scoring='accuracy')\n",
        "print(f\"\\Test set accuracy with Ridge regularization: {accr.mean()}\")\n",
        "\n",
        "lasso_m = LogisticRegressionCV(class_weight= 'balanced', penalty= 'l1', solver= 'saga', multi_class = 'ovr', random_state=42).fit(X2_train_raw, target_train)\n",
        "scores_l = cross_val_score(lasso_m,X2_test,target_test, cv=5,scoring='accuracy',n_jobs=-1)\n",
        "print(f\"\\Test set accuracy LASSO regularization: {scores_l.mean()}\")\n"
      ],
      "metadata": {
        "colab": {
          "base_uri": "https://localhost:8080/"
        },
        "id": "FPgUGW4h6K9T",
        "outputId": "767b3042-ae75-4285-93e8-a8997c4f7628"
      },
      "execution_count": null,
      "outputs": [
        {
          "output_type": "stream",
          "name": "stdout",
          "text": [
            "\\Test set accuracy with no regularization: 0.7674040650081858\n",
            "\\Test set accuracy with Ridge regularization: 0.6479155851934673\n",
            "\\Test set accuracy LASSO regularization: 0.7496965219821907\n"
          ]
        }
      ]
    }
  ],
  "metadata": {
    "colab": {
      "collapsed_sections": [
        "4fRineFJc2Iy",
        "SV4F-uVQcS2k",
        "8_y-brcpgiG_",
        "xmHWaP48RYMu"
      ],
      "provenance": [],
      "toc_visible": true
    },
    "kernelspec": {
      "display_name": "Python 3",
      "name": "python3"
    },
    "language_info": {
      "name": "python"
    }
  },
  "nbformat": 4,
  "nbformat_minor": 0
}